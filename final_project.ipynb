{
 "cells": [
  {
   "attachments": {},
   "cell_type": "markdown",
   "metadata": {},
   "source": [
    "<h1><b>What Makes People Happy?</b></h1>\n",
    "<h3>A study of global happiness, with data from the 2019 World Happiness Report</h3>"
   ]
  },
  {
   "attachments": {},
   "cell_type": "markdown",
   "metadata": {},
   "source": [
    "<h3><b>Motivation</b></h3>\n",
    "<p>Since the beginning of the pandemic, people have become more conscious about living 'happily' and in a way that fulfills them. Whether that entails working to make the world a better place (and continuing a fight for justice for those of all races, genders, income levels, and so on), choosing to prioritize a work-life balance and selecting options that allow for flexibility in schedules, no longer wanting to work for minimum wage (and pushing for a liveable wage), taking the time to engage in 'self-care', or emphasizing mental health (and how it manifests) in the workplace and society as a whole, what constitutes 'happiness' is something I wanted to explore due to this prioritization prevalent today.</p>\n",
    "<p><a href='https://www.kaggle.com/datasets/unsdsn/world-happiness?select=2019.csv'>The World Happiness Report</a> is one such source that monitors this by using data from the Gallup World Poll to 'estimate the extent to which each of six factors – economic production, social support, life expectancy, freedom, absence of corruption, and generosity – contribute to making life evaluations higher in each country than they are in Dystopia, a hypothetical country that has values equal to the world’s lowest national averages for each of the six factors.'</p>\n",
    "<p>Another way to monitor this 'happiness' is to look into happiness scores for each country and compare them to factors indicative of (negative) mental health. Examples of this would include rates of depression, suicide, and substance abuse present in each given population. While I will not be investigating substance abuse and suicide rates in relation to mental health in this tutorial, it is something to take note of for the future.</p> \n",
    "<p><a href='https://www.healthdirect.gov.au/signs-mental-health-issue#:~:text=Nine%20signs%20of%20mental%20health%20issues%201%201.,8.%20Feeling%20guilty%20or%20worthless%20...%20More%20items'>Signs of Mental Health Issues</a> | <a href='https://www.cdc.gov/mentalhealth/learn/index.htm'>CDC: Mental Health</a> | <a href='https://ezcareclinic.io/factors-affecting-mental-health/'>Factors Affecting Mental Health</a> | <a href='https://ourworldindata.org/mental-health'>Our World in Data: Mental Health</a> | <a href='https://www.who.int/news-room/fact-sheets/detail/mental-disorders'> WHO: Mental Disorder Factsheet</a> | <a href='https://apps.who.int/gho/data/node.home'>WHO: Global Health Observatory Data Repository</a></p>\n",
    "<p>Note: 'Happiness' can mean very different things. The <a href='https://www.merriam-webster.com/dictionary/happiness'>Merriam-Webster Dictionary</a> defines it as 'a state of well-being and contentment' and/or 'a pleasurable or satisfying experience'. I will primarily be using the former definition when referring to this state of being. I would also like to mention that while I will be examining mental illness in relation to 'happiness', this does not mean that mental illness is a direct factor of 'happiness', or vice versa. Mental illness can be genetic, caused by factors not taken into account by the World Happiness Report, and so on.</p>"
   ]
  },
  {
   "attachments": {},
   "cell_type": "markdown",
   "metadata": {},
   "source": [
    "<h3><b>I. Data Collection/Curation and Parsing</b></h3>\n",
    "<p>The first thing we will do is collect and make the following datasets usable: <li>The 'World Happiness Report' dataset from 2019 (via <a href='https://www.kaggle.com/datasets/unsdsn/world-happiness?select=2019.csv'>Kaggle</a>)</li><li>The 'Estimated population-based prevalence of depression' dataset (via <a href='https://www.who.int/data/gho/data/indicators/indicator-details/GHO/estimated-population-based-prevalence-of-depression'>WHO</a>)</li><li>The 'Mental health Depression disorder Data' dataset (via <a href='https://data.world/vizzup/mental-health-depression-disorder-data'>data.world</a>)</li></p>"
   ]
  },
  {
   "attachments": {},
   "cell_type": "markdown",
   "metadata": {},
   "source": [
    "Start with the World Happiness Report dataset:"
   ]
  },
  {
   "cell_type": "code",
   "execution_count": 108,
   "metadata": {},
   "outputs": [
    {
     "data": {
      "text/html": [
       "<div>\n",
       "<style scoped>\n",
       "    .dataframe tbody tr th:only-of-type {\n",
       "        vertical-align: middle;\n",
       "    }\n",
       "\n",
       "    .dataframe tbody tr th {\n",
       "        vertical-align: top;\n",
       "    }\n",
       "\n",
       "    .dataframe thead th {\n",
       "        text-align: right;\n",
       "    }\n",
       "</style>\n",
       "<table border=\"1\" class=\"dataframe\">\n",
       "  <thead>\n",
       "    <tr style=\"text-align: right;\">\n",
       "      <th></th>\n",
       "      <th>Overall rank</th>\n",
       "      <th>Country or region</th>\n",
       "      <th>Score</th>\n",
       "      <th>GDP per capita</th>\n",
       "      <th>Social support</th>\n",
       "      <th>Healthy life expectancy</th>\n",
       "      <th>Freedom to make life choices</th>\n",
       "      <th>Generosity</th>\n",
       "      <th>Perceptions of corruption</th>\n",
       "    </tr>\n",
       "  </thead>\n",
       "  <tbody>\n",
       "    <tr>\n",
       "      <th>0</th>\n",
       "      <td>1</td>\n",
       "      <td>Finland</td>\n",
       "      <td>7.769</td>\n",
       "      <td>1.340</td>\n",
       "      <td>1.587</td>\n",
       "      <td>0.986</td>\n",
       "      <td>0.596</td>\n",
       "      <td>0.153</td>\n",
       "      <td>0.393</td>\n",
       "    </tr>\n",
       "    <tr>\n",
       "      <th>1</th>\n",
       "      <td>2</td>\n",
       "      <td>Denmark</td>\n",
       "      <td>7.600</td>\n",
       "      <td>1.383</td>\n",
       "      <td>1.573</td>\n",
       "      <td>0.996</td>\n",
       "      <td>0.592</td>\n",
       "      <td>0.252</td>\n",
       "      <td>0.410</td>\n",
       "    </tr>\n",
       "    <tr>\n",
       "      <th>2</th>\n",
       "      <td>3</td>\n",
       "      <td>Norway</td>\n",
       "      <td>7.554</td>\n",
       "      <td>1.488</td>\n",
       "      <td>1.582</td>\n",
       "      <td>1.028</td>\n",
       "      <td>0.603</td>\n",
       "      <td>0.271</td>\n",
       "      <td>0.341</td>\n",
       "    </tr>\n",
       "    <tr>\n",
       "      <th>3</th>\n",
       "      <td>4</td>\n",
       "      <td>Iceland</td>\n",
       "      <td>7.494</td>\n",
       "      <td>1.380</td>\n",
       "      <td>1.624</td>\n",
       "      <td>1.026</td>\n",
       "      <td>0.591</td>\n",
       "      <td>0.354</td>\n",
       "      <td>0.118</td>\n",
       "    </tr>\n",
       "    <tr>\n",
       "      <th>4</th>\n",
       "      <td>5</td>\n",
       "      <td>Netherlands</td>\n",
       "      <td>7.488</td>\n",
       "      <td>1.396</td>\n",
       "      <td>1.522</td>\n",
       "      <td>0.999</td>\n",
       "      <td>0.557</td>\n",
       "      <td>0.322</td>\n",
       "      <td>0.298</td>\n",
       "    </tr>\n",
       "  </tbody>\n",
       "</table>\n",
       "</div>"
      ],
      "text/plain": [
       "   Overall rank Country or region  Score  GDP per capita  Social support  \\\n",
       "0             1           Finland  7.769           1.340           1.587   \n",
       "1             2           Denmark  7.600           1.383           1.573   \n",
       "2             3            Norway  7.554           1.488           1.582   \n",
       "3             4           Iceland  7.494           1.380           1.624   \n",
       "4             5       Netherlands  7.488           1.396           1.522   \n",
       "\n",
       "   Healthy life expectancy  Freedom to make life choices  Generosity  \\\n",
       "0                    0.986                         0.596       0.153   \n",
       "1                    0.996                         0.592       0.252   \n",
       "2                    1.028                         0.603       0.271   \n",
       "3                    1.026                         0.591       0.354   \n",
       "4                    0.999                         0.557       0.322   \n",
       "\n",
       "   Perceptions of corruption  \n",
       "0                      0.393  \n",
       "1                      0.410  \n",
       "2                      0.341  \n",
       "3                      0.118  \n",
       "4                      0.298  "
      ]
     },
     "execution_count": 108,
     "metadata": {},
     "output_type": "execute_result"
    }
   ],
   "source": [
    "# import pandas, a python library, to aid with this task\n",
    "import pandas as pd\n",
    "# read in the CSV file using pandas\n",
    "happiness_report_2019 = pd.read_csv('archive/2019.csv')\n",
    "# display the first five lines to understand what the data looks like\n",
    "happiness_report_2019.head() "
   ]
  },
  {
   "attachments": {},
   "cell_type": "markdown",
   "metadata": {},
   "source": [
    "Next, we will go to the Depression Prevalence dataset:"
   ]
  },
  {
   "cell_type": "code",
   "execution_count": 27,
   "metadata": {},
   "outputs": [
    {
     "data": {
      "text/plain": [
       "array([2015], dtype=int64)"
      ]
     },
     "execution_count": 27,
     "metadata": {},
     "output_type": "execute_result"
    }
   ],
   "source": [
    "# read in CSV file using pandas\n",
    "dep_prev = pd.read_csv('population_based_prevalence_of_depression.csv')\n",
    "# display the first five lines to understand what the data looks like\n",
    "dep_prev.head()\n",
    "# see if data for 2019 is featured here\n",
    "dep_prev['Period'].unique()"
   ]
  },
  {
   "attachments": {},
   "cell_type": "markdown",
   "metadata": {},
   "source": [
    "Because data for 2019 is not featured here, we will either need to look for a new dataset, switch to 2015 for the World Happiness Index Report, or completely drop this dataset if the third set from data.world proves to be useful."
   ]
  },
  {
   "attachments": {},
   "cell_type": "markdown",
   "metadata": {},
   "source": [
    "The Mental Health Disorders dataset:"
   ]
  },
  {
   "cell_type": "code",
   "execution_count": 28,
   "metadata": {},
   "outputs": [
    {
     "data": {
      "text/plain": [
       "array([1990., 1991., 1992., 1993., 1994., 1995., 1996., 1997., 1998.,\n",
       "       1999., 2000., 2001., 2002., 2003., 2004., 2005., 2006., 2007.,\n",
       "       2008., 2009., 2010., 2011., 2012., 2013., 2014., 2015., 2016.,\n",
       "       2017.])"
      ]
     },
     "execution_count": 28,
     "metadata": {},
     "output_type": "execute_result"
    }
   ],
   "source": [
    "# read in excel file using pandas\n",
    "disorders = pd.read_excel('Mental health Depression disorder Data.xlsx')\n",
    "# display the first five lines to understand what the data looks like\n",
    "disorders.head()\n",
    "# see if data for 2019 is featured here\n",
    "disorders['Year'].unique()"
   ]
  },
  {
   "attachments": {},
   "cell_type": "markdown",
   "metadata": {},
   "source": [
    "Because there is no data available for 2019, we will use the 2017 dataset for the World Happiness Report data and drop the dataset on Depression Prevalance. While we could have simply used data from 2015 for all three, I think it would be better to aim to use data as recent as possible for an analysis more 'relevant' to today."
   ]
  },
  {
   "cell_type": "code",
   "execution_count": 109,
   "metadata": {},
   "outputs": [
    {
     "data": {
      "text/html": [
       "<div>\n",
       "<style scoped>\n",
       "    .dataframe tbody tr th:only-of-type {\n",
       "        vertical-align: middle;\n",
       "    }\n",
       "\n",
       "    .dataframe tbody tr th {\n",
       "        vertical-align: top;\n",
       "    }\n",
       "\n",
       "    .dataframe thead th {\n",
       "        text-align: right;\n",
       "    }\n",
       "</style>\n",
       "<table border=\"1\" class=\"dataframe\">\n",
       "  <thead>\n",
       "    <tr style=\"text-align: right;\">\n",
       "      <th></th>\n",
       "      <th>Country</th>\n",
       "      <th>Happiness.Rank</th>\n",
       "      <th>Happiness.Score</th>\n",
       "      <th>Whisker.high</th>\n",
       "      <th>Whisker.low</th>\n",
       "      <th>Economy..GDP.per.Capita.</th>\n",
       "      <th>Family</th>\n",
       "      <th>Health..Life.Expectancy.</th>\n",
       "      <th>Freedom</th>\n",
       "      <th>Generosity</th>\n",
       "      <th>Trust..Government.Corruption.</th>\n",
       "      <th>Dystopia.Residual</th>\n",
       "    </tr>\n",
       "  </thead>\n",
       "  <tbody>\n",
       "    <tr>\n",
       "      <th>0</th>\n",
       "      <td>Norway</td>\n",
       "      <td>1</td>\n",
       "      <td>7.537</td>\n",
       "      <td>7.594445</td>\n",
       "      <td>7.479556</td>\n",
       "      <td>1.616463</td>\n",
       "      <td>1.533524</td>\n",
       "      <td>0.796667</td>\n",
       "      <td>0.635423</td>\n",
       "      <td>0.362012</td>\n",
       "      <td>0.315964</td>\n",
       "      <td>2.277027</td>\n",
       "    </tr>\n",
       "    <tr>\n",
       "      <th>1</th>\n",
       "      <td>Denmark</td>\n",
       "      <td>2</td>\n",
       "      <td>7.522</td>\n",
       "      <td>7.581728</td>\n",
       "      <td>7.462272</td>\n",
       "      <td>1.482383</td>\n",
       "      <td>1.551122</td>\n",
       "      <td>0.792566</td>\n",
       "      <td>0.626007</td>\n",
       "      <td>0.355280</td>\n",
       "      <td>0.400770</td>\n",
       "      <td>2.313707</td>\n",
       "    </tr>\n",
       "    <tr>\n",
       "      <th>2</th>\n",
       "      <td>Iceland</td>\n",
       "      <td>3</td>\n",
       "      <td>7.504</td>\n",
       "      <td>7.622030</td>\n",
       "      <td>7.385970</td>\n",
       "      <td>1.480633</td>\n",
       "      <td>1.610574</td>\n",
       "      <td>0.833552</td>\n",
       "      <td>0.627163</td>\n",
       "      <td>0.475540</td>\n",
       "      <td>0.153527</td>\n",
       "      <td>2.322715</td>\n",
       "    </tr>\n",
       "    <tr>\n",
       "      <th>3</th>\n",
       "      <td>Switzerland</td>\n",
       "      <td>4</td>\n",
       "      <td>7.494</td>\n",
       "      <td>7.561772</td>\n",
       "      <td>7.426227</td>\n",
       "      <td>1.564980</td>\n",
       "      <td>1.516912</td>\n",
       "      <td>0.858131</td>\n",
       "      <td>0.620071</td>\n",
       "      <td>0.290549</td>\n",
       "      <td>0.367007</td>\n",
       "      <td>2.276716</td>\n",
       "    </tr>\n",
       "    <tr>\n",
       "      <th>4</th>\n",
       "      <td>Finland</td>\n",
       "      <td>5</td>\n",
       "      <td>7.469</td>\n",
       "      <td>7.527542</td>\n",
       "      <td>7.410458</td>\n",
       "      <td>1.443572</td>\n",
       "      <td>1.540247</td>\n",
       "      <td>0.809158</td>\n",
       "      <td>0.617951</td>\n",
       "      <td>0.245483</td>\n",
       "      <td>0.382612</td>\n",
       "      <td>2.430182</td>\n",
       "    </tr>\n",
       "  </tbody>\n",
       "</table>\n",
       "</div>"
      ],
      "text/plain": [
       "       Country  Happiness.Rank  Happiness.Score  Whisker.high  Whisker.low  \\\n",
       "0       Norway               1            7.537      7.594445     7.479556   \n",
       "1      Denmark               2            7.522      7.581728     7.462272   \n",
       "2      Iceland               3            7.504      7.622030     7.385970   \n",
       "3  Switzerland               4            7.494      7.561772     7.426227   \n",
       "4      Finland               5            7.469      7.527542     7.410458   \n",
       "\n",
       "   Economy..GDP.per.Capita.    Family  Health..Life.Expectancy.   Freedom  \\\n",
       "0                  1.616463  1.533524                  0.796667  0.635423   \n",
       "1                  1.482383  1.551122                  0.792566  0.626007   \n",
       "2                  1.480633  1.610574                  0.833552  0.627163   \n",
       "3                  1.564980  1.516912                  0.858131  0.620071   \n",
       "4                  1.443572  1.540247                  0.809158  0.617951   \n",
       "\n",
       "   Generosity  Trust..Government.Corruption.  Dystopia.Residual  \n",
       "0    0.362012                       0.315964           2.277027  \n",
       "1    0.355280                       0.400770           2.313707  \n",
       "2    0.475540                       0.153527           2.322715  \n",
       "3    0.290549                       0.367007           2.276716  \n",
       "4    0.245483                       0.382612           2.430182  "
      ]
     },
     "execution_count": 109,
     "metadata": {},
     "output_type": "execute_result"
    }
   ],
   "source": [
    "# read in the 2017 CSV file using pandas\n",
    "happiness_report_2017 = pd.read_csv('archive/2017.csv')\n",
    "# display the first five lines to understand what the data looks like\n",
    "happiness_report_2017.head() "
   ]
  },
  {
   "attachments": {},
   "cell_type": "markdown",
   "metadata": {},
   "source": [
    "<h3><b>II. Data Management/Representation</b></h3>"
   ]
  },
  {
   "attachments": {},
   "cell_type": "markdown",
   "metadata": {},
   "source": [
    "For this section, we will begin by joining the above given datasets together."
   ]
  },
  {
   "cell_type": "code",
   "execution_count": 31,
   "metadata": {},
   "outputs": [
    {
     "data": {
      "text/html": [
       "<div>\n",
       "<style scoped>\n",
       "    .dataframe tbody tr th:only-of-type {\n",
       "        vertical-align: middle;\n",
       "    }\n",
       "\n",
       "    .dataframe tbody tr th {\n",
       "        vertical-align: top;\n",
       "    }\n",
       "\n",
       "    .dataframe thead th {\n",
       "        text-align: right;\n",
       "    }\n",
       "</style>\n",
       "<table border=\"1\" class=\"dataframe\">\n",
       "  <thead>\n",
       "    <tr style=\"text-align: right;\">\n",
       "      <th></th>\n",
       "      <th>Entity</th>\n",
       "      <th>Code</th>\n",
       "      <th>Year</th>\n",
       "      <th>Schizophrenia (%)</th>\n",
       "      <th>Bipolar disorder (%)</th>\n",
       "      <th>Eating disorders (%)</th>\n",
       "      <th>Anxiety disorders (%)</th>\n",
       "      <th>Drug use disorders (%)</th>\n",
       "      <th>Depression (%)</th>\n",
       "      <th>Alcohol use disorders (%)</th>\n",
       "    </tr>\n",
       "  </thead>\n",
       "  <tbody>\n",
       "    <tr>\n",
       "      <th>0</th>\n",
       "      <td>Afghanistan</td>\n",
       "      <td>AFG</td>\n",
       "      <td>1990.0</td>\n",
       "      <td>0.160560</td>\n",
       "      <td>0.697779</td>\n",
       "      <td>0.101855</td>\n",
       "      <td>4.828830</td>\n",
       "      <td>1.677082</td>\n",
       "      <td>4.071831</td>\n",
       "      <td>0.672404</td>\n",
       "    </tr>\n",
       "    <tr>\n",
       "      <th>1</th>\n",
       "      <td>Afghanistan</td>\n",
       "      <td>AFG</td>\n",
       "      <td>1991.0</td>\n",
       "      <td>0.160312</td>\n",
       "      <td>0.697961</td>\n",
       "      <td>0.099313</td>\n",
       "      <td>4.829740</td>\n",
       "      <td>1.684746</td>\n",
       "      <td>4.079531</td>\n",
       "      <td>0.671768</td>\n",
       "    </tr>\n",
       "    <tr>\n",
       "      <th>2</th>\n",
       "      <td>Afghanistan</td>\n",
       "      <td>AFG</td>\n",
       "      <td>1992.0</td>\n",
       "      <td>0.160135</td>\n",
       "      <td>0.698107</td>\n",
       "      <td>0.096692</td>\n",
       "      <td>4.831108</td>\n",
       "      <td>1.694334</td>\n",
       "      <td>4.088358</td>\n",
       "      <td>0.670644</td>\n",
       "    </tr>\n",
       "    <tr>\n",
       "      <th>3</th>\n",
       "      <td>Afghanistan</td>\n",
       "      <td>AFG</td>\n",
       "      <td>1993.0</td>\n",
       "      <td>0.160037</td>\n",
       "      <td>0.698257</td>\n",
       "      <td>0.094336</td>\n",
       "      <td>4.830864</td>\n",
       "      <td>1.705320</td>\n",
       "      <td>4.096190</td>\n",
       "      <td>0.669738</td>\n",
       "    </tr>\n",
       "    <tr>\n",
       "      <th>4</th>\n",
       "      <td>Afghanistan</td>\n",
       "      <td>AFG</td>\n",
       "      <td>1994.0</td>\n",
       "      <td>0.160022</td>\n",
       "      <td>0.698469</td>\n",
       "      <td>0.092439</td>\n",
       "      <td>4.829423</td>\n",
       "      <td>1.716069</td>\n",
       "      <td>4.099582</td>\n",
       "      <td>0.669260</td>\n",
       "    </tr>\n",
       "  </tbody>\n",
       "</table>\n",
       "</div>"
      ],
      "text/plain": [
       "        Entity Code    Year  Schizophrenia (%)  Bipolar disorder (%)  \\\n",
       "0  Afghanistan  AFG  1990.0           0.160560              0.697779   \n",
       "1  Afghanistan  AFG  1991.0           0.160312              0.697961   \n",
       "2  Afghanistan  AFG  1992.0           0.160135              0.698107   \n",
       "3  Afghanistan  AFG  1993.0           0.160037              0.698257   \n",
       "4  Afghanistan  AFG  1994.0           0.160022              0.698469   \n",
       "\n",
       "   Eating disorders (%)  Anxiety disorders (%)  Drug use disorders (%)  \\\n",
       "0              0.101855               4.828830                1.677082   \n",
       "1              0.099313               4.829740                1.684746   \n",
       "2              0.096692               4.831108                1.694334   \n",
       "3              0.094336               4.830864                1.705320   \n",
       "4              0.092439               4.829423                1.716069   \n",
       "\n",
       "   Depression (%)  Alcohol use disorders (%)  \n",
       "0        4.071831                   0.672404  \n",
       "1        4.079531                   0.671768  \n",
       "2        4.088358                   0.670644  \n",
       "3        4.096190                   0.669738  \n",
       "4        4.099582                   0.669260  "
      ]
     },
     "execution_count": 31,
     "metadata": {},
     "output_type": "execute_result"
    }
   ],
   "source": [
    "# start with happiness_report + disorders\n",
    "\n",
    "# print out the first five rows of 'disorders' to regain an understanding of the data\n",
    "disorders.head()"
   ]
  },
  {
   "attachments": {},
   "cell_type": "markdown",
   "metadata": {},
   "source": [
    "Because this dataset has a row per year and per Country/'Entity', we will need to group by year in order to isolate the data for 2017."
   ]
  },
  {
   "cell_type": "code",
   "execution_count": 53,
   "metadata": {},
   "outputs": [],
   "source": [
    "disorders_by_year = disorders.groupby('Year')\n",
    "disorders_2017 = []\n",
    "for i in disorders_by_year:\n",
    "    if (i[0] == 2017):\n",
    "        disorders_2017 = i[1]\n",
    "\n",
    "# reset indices of rows for the table\n",
    "disorders_2017.reset_index(inplace=True, drop=True)\n",
    "# drop the year column because we already know it's 2017\n",
    "disorders_2017.drop(['Year'], axis=1, inplace=True)"
   ]
  },
  {
   "cell_type": "code",
   "execution_count": 110,
   "metadata": {},
   "outputs": [
    {
     "data": {
      "text/html": [
       "<div>\n",
       "<style scoped>\n",
       "    .dataframe tbody tr th:only-of-type {\n",
       "        vertical-align: middle;\n",
       "    }\n",
       "\n",
       "    .dataframe tbody tr th {\n",
       "        vertical-align: top;\n",
       "    }\n",
       "\n",
       "    .dataframe thead th {\n",
       "        text-align: right;\n",
       "    }\n",
       "</style>\n",
       "<table border=\"1\" class=\"dataframe\">\n",
       "  <thead>\n",
       "    <tr style=\"text-align: right;\">\n",
       "      <th></th>\n",
       "      <th>Country</th>\n",
       "      <th>Happiness.Rank</th>\n",
       "      <th>Happiness.Score</th>\n",
       "      <th>Whisker.high</th>\n",
       "      <th>Whisker.low</th>\n",
       "      <th>Economy..GDP.per.Capita.</th>\n",
       "      <th>Family</th>\n",
       "      <th>Health..Life.Expectancy.</th>\n",
       "      <th>Freedom</th>\n",
       "      <th>Generosity</th>\n",
       "      <th>Trust..Government.Corruption.</th>\n",
       "      <th>Dystopia.Residual</th>\n",
       "    </tr>\n",
       "  </thead>\n",
       "  <tbody>\n",
       "    <tr>\n",
       "      <th>0</th>\n",
       "      <td>Norway</td>\n",
       "      <td>1</td>\n",
       "      <td>7.537</td>\n",
       "      <td>7.594445</td>\n",
       "      <td>7.479556</td>\n",
       "      <td>1.616463</td>\n",
       "      <td>1.533524</td>\n",
       "      <td>0.796667</td>\n",
       "      <td>0.635423</td>\n",
       "      <td>0.362012</td>\n",
       "      <td>0.315964</td>\n",
       "      <td>2.277027</td>\n",
       "    </tr>\n",
       "    <tr>\n",
       "      <th>1</th>\n",
       "      <td>Denmark</td>\n",
       "      <td>2</td>\n",
       "      <td>7.522</td>\n",
       "      <td>7.581728</td>\n",
       "      <td>7.462272</td>\n",
       "      <td>1.482383</td>\n",
       "      <td>1.551122</td>\n",
       "      <td>0.792566</td>\n",
       "      <td>0.626007</td>\n",
       "      <td>0.355280</td>\n",
       "      <td>0.400770</td>\n",
       "      <td>2.313707</td>\n",
       "    </tr>\n",
       "    <tr>\n",
       "      <th>2</th>\n",
       "      <td>Iceland</td>\n",
       "      <td>3</td>\n",
       "      <td>7.504</td>\n",
       "      <td>7.622030</td>\n",
       "      <td>7.385970</td>\n",
       "      <td>1.480633</td>\n",
       "      <td>1.610574</td>\n",
       "      <td>0.833552</td>\n",
       "      <td>0.627163</td>\n",
       "      <td>0.475540</td>\n",
       "      <td>0.153527</td>\n",
       "      <td>2.322715</td>\n",
       "    </tr>\n",
       "    <tr>\n",
       "      <th>3</th>\n",
       "      <td>Switzerland</td>\n",
       "      <td>4</td>\n",
       "      <td>7.494</td>\n",
       "      <td>7.561772</td>\n",
       "      <td>7.426227</td>\n",
       "      <td>1.564980</td>\n",
       "      <td>1.516912</td>\n",
       "      <td>0.858131</td>\n",
       "      <td>0.620071</td>\n",
       "      <td>0.290549</td>\n",
       "      <td>0.367007</td>\n",
       "      <td>2.276716</td>\n",
       "    </tr>\n",
       "    <tr>\n",
       "      <th>4</th>\n",
       "      <td>Finland</td>\n",
       "      <td>5</td>\n",
       "      <td>7.469</td>\n",
       "      <td>7.527542</td>\n",
       "      <td>7.410458</td>\n",
       "      <td>1.443572</td>\n",
       "      <td>1.540247</td>\n",
       "      <td>0.809158</td>\n",
       "      <td>0.617951</td>\n",
       "      <td>0.245483</td>\n",
       "      <td>0.382612</td>\n",
       "      <td>2.430182</td>\n",
       "    </tr>\n",
       "    <tr>\n",
       "      <th>...</th>\n",
       "      <td>...</td>\n",
       "      <td>...</td>\n",
       "      <td>...</td>\n",
       "      <td>...</td>\n",
       "      <td>...</td>\n",
       "      <td>...</td>\n",
       "      <td>...</td>\n",
       "      <td>...</td>\n",
       "      <td>...</td>\n",
       "      <td>...</td>\n",
       "      <td>...</td>\n",
       "      <td>...</td>\n",
       "    </tr>\n",
       "    <tr>\n",
       "      <th>150</th>\n",
       "      <td>Rwanda</td>\n",
       "      <td>151</td>\n",
       "      <td>3.471</td>\n",
       "      <td>3.543030</td>\n",
       "      <td>3.398970</td>\n",
       "      <td>0.368746</td>\n",
       "      <td>0.945707</td>\n",
       "      <td>0.326425</td>\n",
       "      <td>0.581844</td>\n",
       "      <td>0.252756</td>\n",
       "      <td>0.455220</td>\n",
       "      <td>0.540061</td>\n",
       "    </tr>\n",
       "    <tr>\n",
       "      <th>151</th>\n",
       "      <td>Syria</td>\n",
       "      <td>152</td>\n",
       "      <td>3.462</td>\n",
       "      <td>3.663669</td>\n",
       "      <td>3.260331</td>\n",
       "      <td>0.777153</td>\n",
       "      <td>0.396103</td>\n",
       "      <td>0.500533</td>\n",
       "      <td>0.081539</td>\n",
       "      <td>0.493664</td>\n",
       "      <td>0.151347</td>\n",
       "      <td>1.061574</td>\n",
       "    </tr>\n",
       "    <tr>\n",
       "      <th>152</th>\n",
       "      <td>Tanzania</td>\n",
       "      <td>153</td>\n",
       "      <td>3.349</td>\n",
       "      <td>3.461430</td>\n",
       "      <td>3.236570</td>\n",
       "      <td>0.511136</td>\n",
       "      <td>1.041990</td>\n",
       "      <td>0.364509</td>\n",
       "      <td>0.390018</td>\n",
       "      <td>0.354256</td>\n",
       "      <td>0.066035</td>\n",
       "      <td>0.621130</td>\n",
       "    </tr>\n",
       "    <tr>\n",
       "      <th>153</th>\n",
       "      <td>Burundi</td>\n",
       "      <td>154</td>\n",
       "      <td>2.905</td>\n",
       "      <td>3.074690</td>\n",
       "      <td>2.735310</td>\n",
       "      <td>0.091623</td>\n",
       "      <td>0.629794</td>\n",
       "      <td>0.151611</td>\n",
       "      <td>0.059901</td>\n",
       "      <td>0.204435</td>\n",
       "      <td>0.084148</td>\n",
       "      <td>1.683024</td>\n",
       "    </tr>\n",
       "    <tr>\n",
       "      <th>154</th>\n",
       "      <td>Central African Republic</td>\n",
       "      <td>155</td>\n",
       "      <td>2.693</td>\n",
       "      <td>2.864884</td>\n",
       "      <td>2.521116</td>\n",
       "      <td>0.000000</td>\n",
       "      <td>0.000000</td>\n",
       "      <td>0.018773</td>\n",
       "      <td>0.270842</td>\n",
       "      <td>0.280876</td>\n",
       "      <td>0.056565</td>\n",
       "      <td>2.066005</td>\n",
       "    </tr>\n",
       "  </tbody>\n",
       "</table>\n",
       "<p>155 rows × 12 columns</p>\n",
       "</div>"
      ],
      "text/plain": [
       "                      Country  Happiness.Rank  Happiness.Score  Whisker.high  \\\n",
       "0                      Norway               1            7.537      7.594445   \n",
       "1                     Denmark               2            7.522      7.581728   \n",
       "2                     Iceland               3            7.504      7.622030   \n",
       "3                 Switzerland               4            7.494      7.561772   \n",
       "4                     Finland               5            7.469      7.527542   \n",
       "..                        ...             ...              ...           ...   \n",
       "150                    Rwanda             151            3.471      3.543030   \n",
       "151                     Syria             152            3.462      3.663669   \n",
       "152                  Tanzania             153            3.349      3.461430   \n",
       "153                   Burundi             154            2.905      3.074690   \n",
       "154  Central African Republic             155            2.693      2.864884   \n",
       "\n",
       "     Whisker.low  Economy..GDP.per.Capita.    Family  \\\n",
       "0       7.479556                  1.616463  1.533524   \n",
       "1       7.462272                  1.482383  1.551122   \n",
       "2       7.385970                  1.480633  1.610574   \n",
       "3       7.426227                  1.564980  1.516912   \n",
       "4       7.410458                  1.443572  1.540247   \n",
       "..           ...                       ...       ...   \n",
       "150     3.398970                  0.368746  0.945707   \n",
       "151     3.260331                  0.777153  0.396103   \n",
       "152     3.236570                  0.511136  1.041990   \n",
       "153     2.735310                  0.091623  0.629794   \n",
       "154     2.521116                  0.000000  0.000000   \n",
       "\n",
       "     Health..Life.Expectancy.   Freedom  Generosity  \\\n",
       "0                    0.796667  0.635423    0.362012   \n",
       "1                    0.792566  0.626007    0.355280   \n",
       "2                    0.833552  0.627163    0.475540   \n",
       "3                    0.858131  0.620071    0.290549   \n",
       "4                    0.809158  0.617951    0.245483   \n",
       "..                        ...       ...         ...   \n",
       "150                  0.326425  0.581844    0.252756   \n",
       "151                  0.500533  0.081539    0.493664   \n",
       "152                  0.364509  0.390018    0.354256   \n",
       "153                  0.151611  0.059901    0.204435   \n",
       "154                  0.018773  0.270842    0.280876   \n",
       "\n",
       "     Trust..Government.Corruption.  Dystopia.Residual  \n",
       "0                         0.315964           2.277027  \n",
       "1                         0.400770           2.313707  \n",
       "2                         0.153527           2.322715  \n",
       "3                         0.367007           2.276716  \n",
       "4                         0.382612           2.430182  \n",
       "..                             ...                ...  \n",
       "150                       0.455220           0.540061  \n",
       "151                       0.151347           1.061574  \n",
       "152                       0.066035           0.621130  \n",
       "153                       0.084148           1.683024  \n",
       "154                       0.056565           2.066005  \n",
       "\n",
       "[155 rows x 12 columns]"
      ]
     },
     "execution_count": 110,
     "metadata": {},
     "output_type": "execute_result"
    }
   ],
   "source": [
    "# print out 'happiness_report_2017' to regain an understanding of the data\n",
    "happiness_report_2017"
   ]
  },
  {
   "attachments": {},
   "cell_type": "markdown",
   "metadata": {},
   "source": [
    "Note that both of these dataframes do not have the same rows. As a result, some data will be lost when we merge."
   ]
  },
  {
   "cell_type": "code",
   "execution_count": 215,
   "metadata": {},
   "outputs": [
    {
     "data": {
      "text/html": [
       "<div>\n",
       "<style scoped>\n",
       "    .dataframe tbody tr th:only-of-type {\n",
       "        vertical-align: middle;\n",
       "    }\n",
       "\n",
       "    .dataframe tbody tr th {\n",
       "        vertical-align: top;\n",
       "    }\n",
       "\n",
       "    .dataframe thead th {\n",
       "        text-align: right;\n",
       "    }\n",
       "</style>\n",
       "<table border=\"1\" class=\"dataframe\">\n",
       "  <thead>\n",
       "    <tr style=\"text-align: right;\">\n",
       "      <th></th>\n",
       "      <th>Country</th>\n",
       "      <th>Happiness.Rank</th>\n",
       "      <th>Happiness.Score</th>\n",
       "      <th>Whisker.high</th>\n",
       "      <th>Whisker.low</th>\n",
       "      <th>Economy..GDP.per.Capita.</th>\n",
       "      <th>Family</th>\n",
       "      <th>Health..Life.Expectancy.</th>\n",
       "      <th>Freedom</th>\n",
       "      <th>Generosity</th>\n",
       "      <th>Trust..Government.Corruption.</th>\n",
       "      <th>Dystopia.Residual</th>\n",
       "      <th>Code</th>\n",
       "      <th>Schizophrenia (%)</th>\n",
       "      <th>Bipolar disorder (%)</th>\n",
       "      <th>Eating disorders (%)</th>\n",
       "      <th>Anxiety disorders (%)</th>\n",
       "      <th>Drug use disorders (%)</th>\n",
       "      <th>Depression (%)</th>\n",
       "      <th>Alcohol use disorders (%)</th>\n",
       "    </tr>\n",
       "  </thead>\n",
       "  <tbody>\n",
       "    <tr>\n",
       "      <th>0</th>\n",
       "      <td>Norway</td>\n",
       "      <td>1</td>\n",
       "      <td>7.537</td>\n",
       "      <td>7.594445</td>\n",
       "      <td>7.479556</td>\n",
       "      <td>1.616463</td>\n",
       "      <td>1.533524</td>\n",
       "      <td>0.796667</td>\n",
       "      <td>0.635423</td>\n",
       "      <td>0.362012</td>\n",
       "      <td>0.315964</td>\n",
       "      <td>2.277027</td>\n",
       "      <td>NOR</td>\n",
       "      <td>0.211484</td>\n",
       "      <td>0.856901</td>\n",
       "      <td>0.570363</td>\n",
       "      <td>7.585503</td>\n",
       "      <td>0.832286</td>\n",
       "      <td>3.771910</td>\n",
       "      <td>1.419003</td>\n",
       "    </tr>\n",
       "    <tr>\n",
       "      <th>1</th>\n",
       "      <td>Denmark</td>\n",
       "      <td>2</td>\n",
       "      <td>7.522</td>\n",
       "      <td>7.581728</td>\n",
       "      <td>7.462272</td>\n",
       "      <td>1.482383</td>\n",
       "      <td>1.551122</td>\n",
       "      <td>0.792566</td>\n",
       "      <td>0.626007</td>\n",
       "      <td>0.355280</td>\n",
       "      <td>0.400770</td>\n",
       "      <td>2.313707</td>\n",
       "      <td>DNK</td>\n",
       "      <td>0.254017</td>\n",
       "      <td>1.005494</td>\n",
       "      <td>0.540025</td>\n",
       "      <td>5.314635</td>\n",
       "      <td>0.895411</td>\n",
       "      <td>3.291885</td>\n",
       "      <td>1.730723</td>\n",
       "    </tr>\n",
       "    <tr>\n",
       "      <th>2</th>\n",
       "      <td>Iceland</td>\n",
       "      <td>3</td>\n",
       "      <td>7.504</td>\n",
       "      <td>7.622030</td>\n",
       "      <td>7.385970</td>\n",
       "      <td>1.480633</td>\n",
       "      <td>1.610574</td>\n",
       "      <td>0.833552</td>\n",
       "      <td>0.627163</td>\n",
       "      <td>0.475540</td>\n",
       "      <td>0.153527</td>\n",
       "      <td>2.322715</td>\n",
       "      <td>ISL</td>\n",
       "      <td>0.257617</td>\n",
       "      <td>0.971122</td>\n",
       "      <td>0.558014</td>\n",
       "      <td>5.290988</td>\n",
       "      <td>0.725036</td>\n",
       "      <td>3.361665</td>\n",
       "      <td>1.249029</td>\n",
       "    </tr>\n",
       "    <tr>\n",
       "      <th>3</th>\n",
       "      <td>Switzerland</td>\n",
       "      <td>4</td>\n",
       "      <td>7.494</td>\n",
       "      <td>7.561772</td>\n",
       "      <td>7.426227</td>\n",
       "      <td>1.564980</td>\n",
       "      <td>1.516912</td>\n",
       "      <td>0.858131</td>\n",
       "      <td>0.620071</td>\n",
       "      <td>0.290549</td>\n",
       "      <td>0.367007</td>\n",
       "      <td>2.276716</td>\n",
       "      <td>CHE</td>\n",
       "      <td>0.262487</td>\n",
       "      <td>0.953996</td>\n",
       "      <td>0.573969</td>\n",
       "      <td>5.359393</td>\n",
       "      <td>1.006218</td>\n",
       "      <td>3.708060</td>\n",
       "      <td>1.379690</td>\n",
       "    </tr>\n",
       "    <tr>\n",
       "      <th>4</th>\n",
       "      <td>Finland</td>\n",
       "      <td>5</td>\n",
       "      <td>7.469</td>\n",
       "      <td>7.527542</td>\n",
       "      <td>7.410458</td>\n",
       "      <td>1.443572</td>\n",
       "      <td>1.540247</td>\n",
       "      <td>0.809158</td>\n",
       "      <td>0.617951</td>\n",
       "      <td>0.245483</td>\n",
       "      <td>0.382612</td>\n",
       "      <td>2.430182</td>\n",
       "      <td>FIN</td>\n",
       "      <td>0.257444</td>\n",
       "      <td>1.005826</td>\n",
       "      <td>0.594938</td>\n",
       "      <td>3.752062</td>\n",
       "      <td>0.951914</td>\n",
       "      <td>4.792736</td>\n",
       "      <td>2.605061</td>\n",
       "    </tr>\n",
       "  </tbody>\n",
       "</table>\n",
       "</div>"
      ],
      "text/plain": [
       "       Country  Happiness.Rank  Happiness.Score  Whisker.high  Whisker.low  \\\n",
       "0       Norway               1            7.537      7.594445     7.479556   \n",
       "1      Denmark               2            7.522      7.581728     7.462272   \n",
       "2      Iceland               3            7.504      7.622030     7.385970   \n",
       "3  Switzerland               4            7.494      7.561772     7.426227   \n",
       "4      Finland               5            7.469      7.527542     7.410458   \n",
       "\n",
       "   Economy..GDP.per.Capita.    Family  Health..Life.Expectancy.   Freedom  \\\n",
       "0                  1.616463  1.533524                  0.796667  0.635423   \n",
       "1                  1.482383  1.551122                  0.792566  0.626007   \n",
       "2                  1.480633  1.610574                  0.833552  0.627163   \n",
       "3                  1.564980  1.516912                  0.858131  0.620071   \n",
       "4                  1.443572  1.540247                  0.809158  0.617951   \n",
       "\n",
       "   Generosity  Trust..Government.Corruption.  Dystopia.Residual Code  \\\n",
       "0    0.362012                       0.315964           2.277027  NOR   \n",
       "1    0.355280                       0.400770           2.313707  DNK   \n",
       "2    0.475540                       0.153527           2.322715  ISL   \n",
       "3    0.290549                       0.367007           2.276716  CHE   \n",
       "4    0.245483                       0.382612           2.430182  FIN   \n",
       "\n",
       "   Schizophrenia (%)  Bipolar disorder (%)  Eating disorders (%)  \\\n",
       "0           0.211484              0.856901              0.570363   \n",
       "1           0.254017              1.005494              0.540025   \n",
       "2           0.257617              0.971122              0.558014   \n",
       "3           0.262487              0.953996              0.573969   \n",
       "4           0.257444              1.005826              0.594938   \n",
       "\n",
       "   Anxiety disorders (%)  Drug use disorders (%)  Depression (%)  \\\n",
       "0               7.585503                0.832286        3.771910   \n",
       "1               5.314635                0.895411        3.291885   \n",
       "2               5.290988                0.725036        3.361665   \n",
       "3               5.359393                1.006218        3.708060   \n",
       "4               3.752062                0.951914        4.792736   \n",
       "\n",
       "   Alcohol use disorders (%)  \n",
       "0                   1.419003  \n",
       "1                   1.730723  \n",
       "2                   1.249029  \n",
       "3                   1.379690  \n",
       "4                   2.605061  "
      ]
     },
     "execution_count": 215,
     "metadata": {},
     "output_type": "execute_result"
    }
   ],
   "source": [
    "# rename the 'Entity' column in disorders_2017 to make things easier for merge\n",
    "disorders_2017.rename(columns = {'Entity':'Country'}, inplace = True)\n",
    "# merge the datasets together via inner join to remove nulls\n",
    "happiness_and_mental_health = pd.merge(happiness_report_2017, disorders_2017, on='Country', how='inner')\n",
    "happiness_and_mental_health.head()"
   ]
  },
  {
   "cell_type": "code",
   "execution_count": 216,
   "metadata": {},
   "outputs": [
    {
     "data": {
      "text/html": [
       "<div>\n",
       "<style scoped>\n",
       "    .dataframe tbody tr th:only-of-type {\n",
       "        vertical-align: middle;\n",
       "    }\n",
       "\n",
       "    .dataframe tbody tr th {\n",
       "        vertical-align: top;\n",
       "    }\n",
       "\n",
       "    .dataframe thead th {\n",
       "        text-align: right;\n",
       "    }\n",
       "</style>\n",
       "<table border=\"1\" class=\"dataframe\">\n",
       "  <thead>\n",
       "    <tr style=\"text-align: right;\">\n",
       "      <th></th>\n",
       "      <th>Country</th>\n",
       "      <th>Happiness.Rank</th>\n",
       "      <th>Happiness.Score</th>\n",
       "      <th>Whisker.high</th>\n",
       "      <th>Whisker.low</th>\n",
       "      <th>Economy..GDP.per.Capita.</th>\n",
       "      <th>Family</th>\n",
       "      <th>Health..Life.Expectancy.</th>\n",
       "      <th>Freedom</th>\n",
       "      <th>Generosity</th>\n",
       "      <th>...</th>\n",
       "      <th>Dystopia.Residual</th>\n",
       "      <th>Code</th>\n",
       "      <th>Schizophrenia (%)</th>\n",
       "      <th>Bipolar disorder (%)</th>\n",
       "      <th>Eating disorders (%)</th>\n",
       "      <th>Anxiety disorders (%)</th>\n",
       "      <th>Drug use disorders (%)</th>\n",
       "      <th>Depression (%)</th>\n",
       "      <th>Alcohol use disorders (%)</th>\n",
       "      <th>%_pop_w_disorders/mental_illnesses</th>\n",
       "    </tr>\n",
       "  </thead>\n",
       "  <tbody>\n",
       "    <tr>\n",
       "      <th>0</th>\n",
       "      <td>Norway</td>\n",
       "      <td>1</td>\n",
       "      <td>7.537</td>\n",
       "      <td>7.594445</td>\n",
       "      <td>7.479556</td>\n",
       "      <td>1.616463</td>\n",
       "      <td>1.533524</td>\n",
       "      <td>0.796667</td>\n",
       "      <td>0.635423</td>\n",
       "      <td>0.362012</td>\n",
       "      <td>...</td>\n",
       "      <td>2.277027</td>\n",
       "      <td>NOR</td>\n",
       "      <td>0.211484</td>\n",
       "      <td>0.856901</td>\n",
       "      <td>0.570363</td>\n",
       "      <td>7.585503</td>\n",
       "      <td>0.832286</td>\n",
       "      <td>3.771910</td>\n",
       "      <td>1.419003</td>\n",
       "      <td>15.247450</td>\n",
       "    </tr>\n",
       "    <tr>\n",
       "      <th>1</th>\n",
       "      <td>Denmark</td>\n",
       "      <td>2</td>\n",
       "      <td>7.522</td>\n",
       "      <td>7.581728</td>\n",
       "      <td>7.462272</td>\n",
       "      <td>1.482383</td>\n",
       "      <td>1.551122</td>\n",
       "      <td>0.792566</td>\n",
       "      <td>0.626007</td>\n",
       "      <td>0.355280</td>\n",
       "      <td>...</td>\n",
       "      <td>2.313707</td>\n",
       "      <td>DNK</td>\n",
       "      <td>0.254017</td>\n",
       "      <td>1.005494</td>\n",
       "      <td>0.540025</td>\n",
       "      <td>5.314635</td>\n",
       "      <td>0.895411</td>\n",
       "      <td>3.291885</td>\n",
       "      <td>1.730723</td>\n",
       "      <td>13.032190</td>\n",
       "    </tr>\n",
       "    <tr>\n",
       "      <th>2</th>\n",
       "      <td>Iceland</td>\n",
       "      <td>3</td>\n",
       "      <td>7.504</td>\n",
       "      <td>7.622030</td>\n",
       "      <td>7.385970</td>\n",
       "      <td>1.480633</td>\n",
       "      <td>1.610574</td>\n",
       "      <td>0.833552</td>\n",
       "      <td>0.627163</td>\n",
       "      <td>0.475540</td>\n",
       "      <td>...</td>\n",
       "      <td>2.322715</td>\n",
       "      <td>ISL</td>\n",
       "      <td>0.257617</td>\n",
       "      <td>0.971122</td>\n",
       "      <td>0.558014</td>\n",
       "      <td>5.290988</td>\n",
       "      <td>0.725036</td>\n",
       "      <td>3.361665</td>\n",
       "      <td>1.249029</td>\n",
       "      <td>12.413469</td>\n",
       "    </tr>\n",
       "    <tr>\n",
       "      <th>3</th>\n",
       "      <td>Switzerland</td>\n",
       "      <td>4</td>\n",
       "      <td>7.494</td>\n",
       "      <td>7.561772</td>\n",
       "      <td>7.426227</td>\n",
       "      <td>1.564980</td>\n",
       "      <td>1.516912</td>\n",
       "      <td>0.858131</td>\n",
       "      <td>0.620071</td>\n",
       "      <td>0.290549</td>\n",
       "      <td>...</td>\n",
       "      <td>2.276716</td>\n",
       "      <td>CHE</td>\n",
       "      <td>0.262487</td>\n",
       "      <td>0.953996</td>\n",
       "      <td>0.573969</td>\n",
       "      <td>5.359393</td>\n",
       "      <td>1.006218</td>\n",
       "      <td>3.708060</td>\n",
       "      <td>1.379690</td>\n",
       "      <td>13.243813</td>\n",
       "    </tr>\n",
       "    <tr>\n",
       "      <th>4</th>\n",
       "      <td>Finland</td>\n",
       "      <td>5</td>\n",
       "      <td>7.469</td>\n",
       "      <td>7.527542</td>\n",
       "      <td>7.410458</td>\n",
       "      <td>1.443572</td>\n",
       "      <td>1.540247</td>\n",
       "      <td>0.809158</td>\n",
       "      <td>0.617951</td>\n",
       "      <td>0.245483</td>\n",
       "      <td>...</td>\n",
       "      <td>2.430182</td>\n",
       "      <td>FIN</td>\n",
       "      <td>0.257444</td>\n",
       "      <td>1.005826</td>\n",
       "      <td>0.594938</td>\n",
       "      <td>3.752062</td>\n",
       "      <td>0.951914</td>\n",
       "      <td>4.792736</td>\n",
       "      <td>2.605061</td>\n",
       "      <td>13.959981</td>\n",
       "    </tr>\n",
       "  </tbody>\n",
       "</table>\n",
       "<p>5 rows × 21 columns</p>\n",
       "</div>"
      ],
      "text/plain": [
       "       Country  Happiness.Rank  Happiness.Score  Whisker.high  Whisker.low  \\\n",
       "0       Norway               1            7.537      7.594445     7.479556   \n",
       "1      Denmark               2            7.522      7.581728     7.462272   \n",
       "2      Iceland               3            7.504      7.622030     7.385970   \n",
       "3  Switzerland               4            7.494      7.561772     7.426227   \n",
       "4      Finland               5            7.469      7.527542     7.410458   \n",
       "\n",
       "   Economy..GDP.per.Capita.    Family  Health..Life.Expectancy.   Freedom  \\\n",
       "0                  1.616463  1.533524                  0.796667  0.635423   \n",
       "1                  1.482383  1.551122                  0.792566  0.626007   \n",
       "2                  1.480633  1.610574                  0.833552  0.627163   \n",
       "3                  1.564980  1.516912                  0.858131  0.620071   \n",
       "4                  1.443572  1.540247                  0.809158  0.617951   \n",
       "\n",
       "   Generosity  ...  Dystopia.Residual  Code Schizophrenia (%)  \\\n",
       "0    0.362012  ...           2.277027   NOR          0.211484   \n",
       "1    0.355280  ...           2.313707   DNK          0.254017   \n",
       "2    0.475540  ...           2.322715   ISL          0.257617   \n",
       "3    0.290549  ...           2.276716   CHE          0.262487   \n",
       "4    0.245483  ...           2.430182   FIN          0.257444   \n",
       "\n",
       "   Bipolar disorder (%)  Eating disorders (%)  Anxiety disorders (%)  \\\n",
       "0              0.856901              0.570363               7.585503   \n",
       "1              1.005494              0.540025               5.314635   \n",
       "2              0.971122              0.558014               5.290988   \n",
       "3              0.953996              0.573969               5.359393   \n",
       "4              1.005826              0.594938               3.752062   \n",
       "\n",
       "   Drug use disorders (%)  Depression (%)  Alcohol use disorders (%)  \\\n",
       "0                0.832286        3.771910                   1.419003   \n",
       "1                0.895411        3.291885                   1.730723   \n",
       "2                0.725036        3.361665                   1.249029   \n",
       "3                1.006218        3.708060                   1.379690   \n",
       "4                0.951914        4.792736                   2.605061   \n",
       "\n",
       "   %_pop_w_disorders/mental_illnesses  \n",
       "0                           15.247450  \n",
       "1                           13.032190  \n",
       "2                           12.413469  \n",
       "3                           13.243813  \n",
       "4                           13.959981  \n",
       "\n",
       "[5 rows x 21 columns]"
      ]
     },
     "execution_count": 216,
     "metadata": {},
     "output_type": "execute_result"
    }
   ],
   "source": [
    "# add up the % of the population with the different health conditions for later analysis\n",
    "happiness_and_mental_health['%_pop_w_disorders/mental_illnesses'] = happiness_and_mental_health['Schizophrenia (%)'] + happiness_and_mental_health['Bipolar disorder (%)'] + happiness_and_mental_health['Eating disorders (%)'] + happiness_and_mental_health['Anxiety disorders (%)'] + happiness_and_mental_health['Drug use disorders (%)'] + happiness_and_mental_health['Depression (%)'] + happiness_and_mental_health['Alcohol use disorders (%)']\n",
    "happiness_and_mental_health.head()"
   ]
  },
  {
   "attachments": {},
   "cell_type": "markdown",
   "metadata": {},
   "source": [
    "The data for the top five happiest countries given above already shows us that the 'happiest' country on Earth (as noted by the World Happiness Report) has a higher percentage of people with mental illnesses and/or disorders than the other countries present."
   ]
  },
  {
   "attachments": {},
   "cell_type": "markdown",
   "metadata": {},
   "source": [
    "<h3><b>III. Exploratory Data Analysis</b></h3>"
   ]
  },
  {
   "attachments": {},
   "cell_type": "markdown",
   "metadata": {},
   "source": [
    "Before we start anything, let us keep in mind the dataframes we have access to (and will use), in addition to the information they store:\n",
    "<li>'happiness_report_2019' - The World Happiness Report Dataset (2019)</li><li>'happiness_report_2017' - The World Happiness Report Dataset (2017)</li><li>'disorders_2017' - The Percentage of each Country's Population with Specific Mental Illnesses/Disorders (2017)</li><li>'happiness_and_mental_health' - The 2nd and 3rd dataframes with a total percentage of each country's population with mental illnesses/disorders (2017)</li>"
   ]
  },
  {
   "attachments": {},
   "cell_type": "markdown",
   "metadata": {},
   "source": [
    "We will start with first viewing all of the columns for the dataframe we created above."
   ]
  },
  {
   "cell_type": "code",
   "execution_count": 188,
   "metadata": {},
   "outputs": [
    {
     "data": {
      "text/plain": [
       "Index(['Country', 'Happiness.Rank', 'Happiness.Score', 'Whisker.high',\n",
       "       'Whisker.low', 'Economy..GDP.per.Capita.', 'Family',\n",
       "       'Health..Life.Expectancy.', 'Freedom', 'Generosity',\n",
       "       'Trust..Government.Corruption.', 'Dystopia.Residual', 'Code',\n",
       "       'Schizophrenia (%)', 'Bipolar disorder (%)', 'Eating disorders (%)',\n",
       "       'Anxiety disorders (%)', 'Drug use disorders (%)', 'Depression (%)',\n",
       "       'Alcohol use disorders (%)', '%_pop_w_disorders/mental_illnesses'],\n",
       "      dtype='object')"
      ]
     },
     "execution_count": 188,
     "metadata": {},
     "output_type": "execute_result"
    }
   ],
   "source": [
    "happiness_and_mental_health.columns"
   ]
  },
  {
   "attachments": {},
   "cell_type": "markdown",
   "metadata": {},
   "source": [
    "Let's first look at how each country looks in relation to the percentage of their population with mental illnesses or disorders. Code for creating the map is from <a href='https://www.askpython.com/python/examples/plot-geographical-data-python-plotly'>Ask Python</a>."
   ]
  },
  {
   "cell_type": "code",
   "execution_count": 255,
   "metadata": {},
   "outputs": [
    {
     "data": {
      "application/vnd.plotly.v1+json": {
       "config": {
        "plotlyServerURL": "https://plot.ly"
       },
       "data": [
        {
         "coloraxis": "coloraxis",
         "geo": "geo",
         "hovertemplate": "<b>%{hovertext}</b><br><br>Code=%{location}<br>%_pop_w_disorders/mental_illnesses=%{z}<extra></extra>",
         "hovertext": [
          "Norway",
          "Denmark",
          "Iceland",
          "Switzerland",
          "Finland",
          "Netherlands",
          "Canada",
          "New Zealand",
          "Sweden",
          "Australia",
          "Israel",
          "Costa Rica",
          "Austria",
          "United States",
          "Ireland",
          "Germany",
          "Belgium",
          "Luxembourg",
          "United Kingdom",
          "Chile",
          "United Arab Emirates",
          "Brazil",
          "Czech Republic",
          "Argentina",
          "Mexico",
          "Singapore",
          "Malta",
          "Uruguay",
          "Guatemala",
          "Panama",
          "France",
          "Thailand",
          "Spain",
          "Qatar",
          "Colombia",
          "Saudi Arabia",
          "Trinidad and Tobago",
          "Kuwait",
          "Slovakia",
          "Bahrain",
          "Malaysia",
          "Nicaragua",
          "Ecuador",
          "El Salvador",
          "Poland",
          "Uzbekistan",
          "Italy",
          "Russia",
          "Belize",
          "Japan",
          "Lithuania",
          "Algeria",
          "Latvia",
          "South Korea",
          "Moldova",
          "Romania",
          "Bolivia",
          "Turkmenistan",
          "Kazakhstan",
          "Slovenia",
          "Peru",
          "Mauritius",
          "Cyprus",
          "Estonia",
          "Belarus",
          "Libya",
          "Turkey",
          "Paraguay",
          "Philippines",
          "Serbia",
          "Jordan",
          "Hungary",
          "Jamaica",
          "Croatia",
          "China",
          "Pakistan",
          "Indonesia",
          "Venezuela",
          "Montenegro",
          "Morocco",
          "Azerbaijan",
          "Dominican Republic",
          "Greece",
          "Lebanon",
          "Portugal",
          "Bosnia and Herzegovina",
          "Honduras",
          "Macedonia",
          "Somalia",
          "Vietnam",
          "Nigeria",
          "Tajikistan",
          "Bhutan",
          "Kyrgyzstan",
          "Nepal",
          "Mongolia",
          "South Africa",
          "Tunisia",
          "Egypt",
          "Bulgaria",
          "Sierra Leone",
          "Cameroon",
          "Iran",
          "Albania",
          "Bangladesh",
          "Namibia",
          "Kenya",
          "Mozambique",
          "Myanmar",
          "Senegal",
          "Zambia",
          "Iraq",
          "Gabon",
          "Ethiopia",
          "Sri Lanka",
          "Armenia",
          "India",
          "Mauritania",
          "Georgia",
          "Mali",
          "Cambodia",
          "Sudan",
          "Ghana",
          "Ukraine",
          "Uganda",
          "Burkina Faso",
          "Niger",
          "Malawi",
          "Chad",
          "Zimbabwe",
          "Lesotho",
          "Angola",
          "Afghanistan",
          "Botswana",
          "Benin",
          "Madagascar",
          "Haiti",
          "Yemen",
          "South Sudan",
          "Liberia",
          "Guinea",
          "Togo",
          "Rwanda",
          "Syria",
          "Tanzania",
          "Burundi",
          "Central African Republic"
         ],
         "locations": [
          "NOR",
          "DNK",
          "ISL",
          "CHE",
          "FIN",
          "NLD",
          "CAN",
          "NZL",
          "SWE",
          "AUS",
          "ISR",
          "CRI",
          "AUT",
          "USA",
          "IRL",
          "DEU",
          "BEL",
          "LUX",
          "GBR",
          "CHL",
          "ARE",
          "BRA",
          "CZE",
          "ARG",
          "MEX",
          "SGP",
          "MLT",
          "URY",
          "GTM",
          "PAN",
          "FRA",
          "THA",
          "ESP",
          "QAT",
          "COL",
          "SAU",
          "TTO",
          "KWT",
          "SVK",
          "BHR",
          "MYS",
          "NIC",
          "ECU",
          "SLV",
          "POL",
          "UZB",
          "ITA",
          "RUS",
          "BLZ",
          "JPN",
          "LTU",
          "DZA",
          "LVA",
          "KOR",
          "MDA",
          "ROU",
          "BOL",
          "TKM",
          "KAZ",
          "SVN",
          "PER",
          "MUS",
          "CYP",
          "EST",
          "BLR",
          "LBY",
          "TUR",
          "PRY",
          "PHL",
          "SRB",
          "JOR",
          "HUN",
          "JAM",
          "HRV",
          "CHN",
          "PAK",
          "IDN",
          "VEN",
          "MNE",
          "MAR",
          "AZE",
          "DOM",
          "GRC",
          "LBN",
          "PRT",
          "BIH",
          "HND",
          "MKD",
          "SOM",
          "VNM",
          "NGA",
          "TJK",
          "BTN",
          "KGZ",
          "NPL",
          "MNG",
          "ZAF",
          "TUN",
          "EGY",
          "BGR",
          "SLE",
          "CMR",
          "IRN",
          "ALB",
          "BGD",
          "NAM",
          "KEN",
          "MOZ",
          "MMR",
          "SEN",
          "ZMB",
          "IRQ",
          "GAB",
          "ETH",
          "LKA",
          "ARM",
          "IND",
          "MRT",
          "GEO",
          "MLI",
          "KHM",
          "SDN",
          "GHA",
          "UKR",
          "UGA",
          "BFA",
          "NER",
          "MWI",
          "TCD",
          "ZWE",
          "LSO",
          "AGO",
          "AFG",
          "BWA",
          "BEN",
          "MDG",
          "HTI",
          "YEM",
          "SSD",
          "LBR",
          "GIN",
          "TGO",
          "RWA",
          "SYR",
          "TZA",
          "BDI",
          "CAF"
         ],
         "name": "",
         "type": "choropleth",
         "z": [
          15.247449634524,
          13.032190114385989,
          12.413469388519989,
          13.243812799087,
          13.959981011945,
          14.186207866282997,
          14.570482059059,
          18.97435035566598,
          14.000550706911989,
          17.483763727096996,
          9.757017091555001,
          9.440152043761,
          13.200291445672,
          18.461197790434,
          14.947158195565988,
          14.741761165356998,
          13.420021098939,
          13.157441292032988,
          14.223280185461988,
          15.444572740471987,
          12.09213310182499,
          14.7013084505,
          10.368357317847,
          14.15808451083498,
          9.873262748361991,
          10.133170412120991,
          12.405790932431,
          13.433963588608,
          10.611960176672,
          9.049934008432,
          15.266935850252999,
          9.124809417710997,
          13.161591428001998,
          11.928310081406,
          8.781376732054989,
          11.994066756849,
          11.874264264880999,
          12.301489164863998,
          10.181409358429,
          12.289145987092999,
          10.213919299874002,
          9.618296296438999,
          11.107758095361,
          10.457686262683001,
          9.696384329496999,
          8.82812269670399,
          12.510567344865988,
          13.392034014790001,
          11.363297554422001,
          9.84997104345,
          13.274908063142998,
          12.339591830588999,
          13.016124236345991,
          11.128613735228,
          12.062442140428999,
          8.888307002363987,
          11.171033572909,
          9.453423573457988,
          11.189189310578,
          10.642731925267997,
          10.007959290138999,
          9.807340799521,
          12.019859689372,
          13.813868924388,
          14.199934347568998,
          13.26132971745898,
          11.324824137736998,
          13.402399428518999,
          8.472779188163988,
          9.521330512475988,
          11.923732461218988,
          10.17308017441799,
          10.93145503614,
          10.168047338304998,
          9.496788379101991,
          10.32927792622599,
          8.08120975728899,
          8.965388979172001,
          9.543663359424999,
          13.755630675071,
          9.062362596294,
          11.186852604059,
          13.413900676546,
          14.051893904226999,
          13.465304383194999,
          10.075661959905,
          9.24739100711499,
          9.190211499045999,
          10.244161803364499,
          8.305103957869,
          9.25023230368199,
          8.700919985647989,
          11.18597645247898,
          9.834994341935,
          10.475019404866,
          11.13449539536799,
          11.24398217421398,
          12.580391240663001,
          10.895182613986,
          9.69141948417599,
          8.795123024878988,
          9.19934450684,
          15.817644492642989,
          9.028778664955,
          11.343590828459988,
          10.42361416086499,
          9.833878964964988,
          10.681988999423,
          7.912259836013,
          8.616654181854999,
          10.305345292285,
          11.899850989469991,
          10.43287603053,
          10.81313708788699,
          9.395186642848,
          8.898746443605988,
          9.458542656150989,
          8.449294488525998,
          9.054755264209987,
          8.15925377634399,
          8.62563343012199,
          11.80548628469299,
          8.933391142884998,
          13.463635456182999,
          11.173409467266996,
          8.940524279376,
          8.6197082520757,
          10.082290725808999,
          9.079610860390998,
          9.480955508389979,
          12.446362300931998,
          10.325530293476001,
          13.135368628660999,
          10.890161398642999,
          8.960135196447997,
          10.200435101811987,
          10.904223728152001,
          11.958688119023,
          10.232124435039,
          9.033666582018789,
          8.773334887764998,
          8.924093577067998,
          11.390088535368001,
          11.847722814429991,
          10.312121664382,
          10.23461972494119,
          10.217433432716799
         ]
        }
       ],
       "layout": {
        "coloraxis": {
         "colorbar": {
          "title": {
           "text": "%_pop_w_disorders/mental_illnesses"
          }
         },
         "colorscale": [
          [
           0,
           "rgb(247,244,249)"
          ],
          [
           0.125,
           "rgb(231,225,239)"
          ],
          [
           0.25,
           "rgb(212,185,218)"
          ],
          [
           0.375,
           "rgb(201,148,199)"
          ],
          [
           0.5,
           "rgb(223,101,176)"
          ],
          [
           0.625,
           "rgb(231,41,138)"
          ],
          [
           0.75,
           "rgb(206,18,86)"
          ],
          [
           0.875,
           "rgb(152,0,67)"
          ],
          [
           1,
           "rgb(103,0,31)"
          ]
         ]
        },
        "geo": {
         "center": {},
         "domain": {
          "x": [
           0,
           1
          ],
          "y": [
           0,
           1
          ]
         }
        },
        "legend": {
         "tracegroupgap": 0
        },
        "template": {
         "data": {
          "bar": [
           {
            "error_x": {
             "color": "#2a3f5f"
            },
            "error_y": {
             "color": "#2a3f5f"
            },
            "marker": {
             "line": {
              "color": "#E5ECF6",
              "width": 0.5
             },
             "pattern": {
              "fillmode": "overlay",
              "size": 10,
              "solidity": 0.2
             }
            },
            "type": "bar"
           }
          ],
          "barpolar": [
           {
            "marker": {
             "line": {
              "color": "#E5ECF6",
              "width": 0.5
             },
             "pattern": {
              "fillmode": "overlay",
              "size": 10,
              "solidity": 0.2
             }
            },
            "type": "barpolar"
           }
          ],
          "carpet": [
           {
            "aaxis": {
             "endlinecolor": "#2a3f5f",
             "gridcolor": "white",
             "linecolor": "white",
             "minorgridcolor": "white",
             "startlinecolor": "#2a3f5f"
            },
            "baxis": {
             "endlinecolor": "#2a3f5f",
             "gridcolor": "white",
             "linecolor": "white",
             "minorgridcolor": "white",
             "startlinecolor": "#2a3f5f"
            },
            "type": "carpet"
           }
          ],
          "choropleth": [
           {
            "colorbar": {
             "outlinewidth": 0,
             "ticks": ""
            },
            "type": "choropleth"
           }
          ],
          "contour": [
           {
            "colorbar": {
             "outlinewidth": 0,
             "ticks": ""
            },
            "colorscale": [
             [
              0,
              "#0d0887"
             ],
             [
              0.1111111111111111,
              "#46039f"
             ],
             [
              0.2222222222222222,
              "#7201a8"
             ],
             [
              0.3333333333333333,
              "#9c179e"
             ],
             [
              0.4444444444444444,
              "#bd3786"
             ],
             [
              0.5555555555555556,
              "#d8576b"
             ],
             [
              0.6666666666666666,
              "#ed7953"
             ],
             [
              0.7777777777777778,
              "#fb9f3a"
             ],
             [
              0.8888888888888888,
              "#fdca26"
             ],
             [
              1,
              "#f0f921"
             ]
            ],
            "type": "contour"
           }
          ],
          "contourcarpet": [
           {
            "colorbar": {
             "outlinewidth": 0,
             "ticks": ""
            },
            "type": "contourcarpet"
           }
          ],
          "heatmap": [
           {
            "colorbar": {
             "outlinewidth": 0,
             "ticks": ""
            },
            "colorscale": [
             [
              0,
              "#0d0887"
             ],
             [
              0.1111111111111111,
              "#46039f"
             ],
             [
              0.2222222222222222,
              "#7201a8"
             ],
             [
              0.3333333333333333,
              "#9c179e"
             ],
             [
              0.4444444444444444,
              "#bd3786"
             ],
             [
              0.5555555555555556,
              "#d8576b"
             ],
             [
              0.6666666666666666,
              "#ed7953"
             ],
             [
              0.7777777777777778,
              "#fb9f3a"
             ],
             [
              0.8888888888888888,
              "#fdca26"
             ],
             [
              1,
              "#f0f921"
             ]
            ],
            "type": "heatmap"
           }
          ],
          "heatmapgl": [
           {
            "colorbar": {
             "outlinewidth": 0,
             "ticks": ""
            },
            "colorscale": [
             [
              0,
              "#0d0887"
             ],
             [
              0.1111111111111111,
              "#46039f"
             ],
             [
              0.2222222222222222,
              "#7201a8"
             ],
             [
              0.3333333333333333,
              "#9c179e"
             ],
             [
              0.4444444444444444,
              "#bd3786"
             ],
             [
              0.5555555555555556,
              "#d8576b"
             ],
             [
              0.6666666666666666,
              "#ed7953"
             ],
             [
              0.7777777777777778,
              "#fb9f3a"
             ],
             [
              0.8888888888888888,
              "#fdca26"
             ],
             [
              1,
              "#f0f921"
             ]
            ],
            "type": "heatmapgl"
           }
          ],
          "histogram": [
           {
            "marker": {
             "pattern": {
              "fillmode": "overlay",
              "size": 10,
              "solidity": 0.2
             }
            },
            "type": "histogram"
           }
          ],
          "histogram2d": [
           {
            "colorbar": {
             "outlinewidth": 0,
             "ticks": ""
            },
            "colorscale": [
             [
              0,
              "#0d0887"
             ],
             [
              0.1111111111111111,
              "#46039f"
             ],
             [
              0.2222222222222222,
              "#7201a8"
             ],
             [
              0.3333333333333333,
              "#9c179e"
             ],
             [
              0.4444444444444444,
              "#bd3786"
             ],
             [
              0.5555555555555556,
              "#d8576b"
             ],
             [
              0.6666666666666666,
              "#ed7953"
             ],
             [
              0.7777777777777778,
              "#fb9f3a"
             ],
             [
              0.8888888888888888,
              "#fdca26"
             ],
             [
              1,
              "#f0f921"
             ]
            ],
            "type": "histogram2d"
           }
          ],
          "histogram2dcontour": [
           {
            "colorbar": {
             "outlinewidth": 0,
             "ticks": ""
            },
            "colorscale": [
             [
              0,
              "#0d0887"
             ],
             [
              0.1111111111111111,
              "#46039f"
             ],
             [
              0.2222222222222222,
              "#7201a8"
             ],
             [
              0.3333333333333333,
              "#9c179e"
             ],
             [
              0.4444444444444444,
              "#bd3786"
             ],
             [
              0.5555555555555556,
              "#d8576b"
             ],
             [
              0.6666666666666666,
              "#ed7953"
             ],
             [
              0.7777777777777778,
              "#fb9f3a"
             ],
             [
              0.8888888888888888,
              "#fdca26"
             ],
             [
              1,
              "#f0f921"
             ]
            ],
            "type": "histogram2dcontour"
           }
          ],
          "mesh3d": [
           {
            "colorbar": {
             "outlinewidth": 0,
             "ticks": ""
            },
            "type": "mesh3d"
           }
          ],
          "parcoords": [
           {
            "line": {
             "colorbar": {
              "outlinewidth": 0,
              "ticks": ""
             }
            },
            "type": "parcoords"
           }
          ],
          "pie": [
           {
            "automargin": true,
            "type": "pie"
           }
          ],
          "scatter": [
           {
            "marker": {
             "colorbar": {
              "outlinewidth": 0,
              "ticks": ""
             }
            },
            "type": "scatter"
           }
          ],
          "scatter3d": [
           {
            "line": {
             "colorbar": {
              "outlinewidth": 0,
              "ticks": ""
             }
            },
            "marker": {
             "colorbar": {
              "outlinewidth": 0,
              "ticks": ""
             }
            },
            "type": "scatter3d"
           }
          ],
          "scattercarpet": [
           {
            "marker": {
             "colorbar": {
              "outlinewidth": 0,
              "ticks": ""
             }
            },
            "type": "scattercarpet"
           }
          ],
          "scattergeo": [
           {
            "marker": {
             "colorbar": {
              "outlinewidth": 0,
              "ticks": ""
             }
            },
            "type": "scattergeo"
           }
          ],
          "scattergl": [
           {
            "marker": {
             "colorbar": {
              "outlinewidth": 0,
              "ticks": ""
             }
            },
            "type": "scattergl"
           }
          ],
          "scattermapbox": [
           {
            "marker": {
             "colorbar": {
              "outlinewidth": 0,
              "ticks": ""
             }
            },
            "type": "scattermapbox"
           }
          ],
          "scatterpolar": [
           {
            "marker": {
             "colorbar": {
              "outlinewidth": 0,
              "ticks": ""
             }
            },
            "type": "scatterpolar"
           }
          ],
          "scatterpolargl": [
           {
            "marker": {
             "colorbar": {
              "outlinewidth": 0,
              "ticks": ""
             }
            },
            "type": "scatterpolargl"
           }
          ],
          "scatterternary": [
           {
            "marker": {
             "colorbar": {
              "outlinewidth": 0,
              "ticks": ""
             }
            },
            "type": "scatterternary"
           }
          ],
          "surface": [
           {
            "colorbar": {
             "outlinewidth": 0,
             "ticks": ""
            },
            "colorscale": [
             [
              0,
              "#0d0887"
             ],
             [
              0.1111111111111111,
              "#46039f"
             ],
             [
              0.2222222222222222,
              "#7201a8"
             ],
             [
              0.3333333333333333,
              "#9c179e"
             ],
             [
              0.4444444444444444,
              "#bd3786"
             ],
             [
              0.5555555555555556,
              "#d8576b"
             ],
             [
              0.6666666666666666,
              "#ed7953"
             ],
             [
              0.7777777777777778,
              "#fb9f3a"
             ],
             [
              0.8888888888888888,
              "#fdca26"
             ],
             [
              1,
              "#f0f921"
             ]
            ],
            "type": "surface"
           }
          ],
          "table": [
           {
            "cells": {
             "fill": {
              "color": "#EBF0F8"
             },
             "line": {
              "color": "white"
             }
            },
            "header": {
             "fill": {
              "color": "#C8D4E3"
             },
             "line": {
              "color": "white"
             }
            },
            "type": "table"
           }
          ]
         },
         "layout": {
          "annotationdefaults": {
           "arrowcolor": "#2a3f5f",
           "arrowhead": 0,
           "arrowwidth": 1
          },
          "autotypenumbers": "strict",
          "coloraxis": {
           "colorbar": {
            "outlinewidth": 0,
            "ticks": ""
           }
          },
          "colorscale": {
           "diverging": [
            [
             0,
             "#8e0152"
            ],
            [
             0.1,
             "#c51b7d"
            ],
            [
             0.2,
             "#de77ae"
            ],
            [
             0.3,
             "#f1b6da"
            ],
            [
             0.4,
             "#fde0ef"
            ],
            [
             0.5,
             "#f7f7f7"
            ],
            [
             0.6,
             "#e6f5d0"
            ],
            [
             0.7,
             "#b8e186"
            ],
            [
             0.8,
             "#7fbc41"
            ],
            [
             0.9,
             "#4d9221"
            ],
            [
             1,
             "#276419"
            ]
           ],
           "sequential": [
            [
             0,
             "#0d0887"
            ],
            [
             0.1111111111111111,
             "#46039f"
            ],
            [
             0.2222222222222222,
             "#7201a8"
            ],
            [
             0.3333333333333333,
             "#9c179e"
            ],
            [
             0.4444444444444444,
             "#bd3786"
            ],
            [
             0.5555555555555556,
             "#d8576b"
            ],
            [
             0.6666666666666666,
             "#ed7953"
            ],
            [
             0.7777777777777778,
             "#fb9f3a"
            ],
            [
             0.8888888888888888,
             "#fdca26"
            ],
            [
             1,
             "#f0f921"
            ]
           ],
           "sequentialminus": [
            [
             0,
             "#0d0887"
            ],
            [
             0.1111111111111111,
             "#46039f"
            ],
            [
             0.2222222222222222,
             "#7201a8"
            ],
            [
             0.3333333333333333,
             "#9c179e"
            ],
            [
             0.4444444444444444,
             "#bd3786"
            ],
            [
             0.5555555555555556,
             "#d8576b"
            ],
            [
             0.6666666666666666,
             "#ed7953"
            ],
            [
             0.7777777777777778,
             "#fb9f3a"
            ],
            [
             0.8888888888888888,
             "#fdca26"
            ],
            [
             1,
             "#f0f921"
            ]
           ]
          },
          "colorway": [
           "#636efa",
           "#EF553B",
           "#00cc96",
           "#ab63fa",
           "#FFA15A",
           "#19d3f3",
           "#FF6692",
           "#B6E880",
           "#FF97FF",
           "#FECB52"
          ],
          "font": {
           "color": "#2a3f5f"
          },
          "geo": {
           "bgcolor": "white",
           "lakecolor": "white",
           "landcolor": "#E5ECF6",
           "showlakes": true,
           "showland": true,
           "subunitcolor": "white"
          },
          "hoverlabel": {
           "align": "left"
          },
          "hovermode": "closest",
          "mapbox": {
           "style": "light"
          },
          "paper_bgcolor": "white",
          "plot_bgcolor": "#E5ECF6",
          "polar": {
           "angularaxis": {
            "gridcolor": "white",
            "linecolor": "white",
            "ticks": ""
           },
           "bgcolor": "#E5ECF6",
           "radialaxis": {
            "gridcolor": "white",
            "linecolor": "white",
            "ticks": ""
           }
          },
          "scene": {
           "xaxis": {
            "backgroundcolor": "#E5ECF6",
            "gridcolor": "white",
            "gridwidth": 2,
            "linecolor": "white",
            "showbackground": true,
            "ticks": "",
            "zerolinecolor": "white"
           },
           "yaxis": {
            "backgroundcolor": "#E5ECF6",
            "gridcolor": "white",
            "gridwidth": 2,
            "linecolor": "white",
            "showbackground": true,
            "ticks": "",
            "zerolinecolor": "white"
           },
           "zaxis": {
            "backgroundcolor": "#E5ECF6",
            "gridcolor": "white",
            "gridwidth": 2,
            "linecolor": "white",
            "showbackground": true,
            "ticks": "",
            "zerolinecolor": "white"
           }
          },
          "shapedefaults": {
           "line": {
            "color": "#2a3f5f"
           }
          },
          "ternary": {
           "aaxis": {
            "gridcolor": "white",
            "linecolor": "white",
            "ticks": ""
           },
           "baxis": {
            "gridcolor": "white",
            "linecolor": "white",
            "ticks": ""
           },
           "bgcolor": "#E5ECF6",
           "caxis": {
            "gridcolor": "white",
            "linecolor": "white",
            "ticks": ""
           }
          },
          "title": {
           "x": 0.05
          },
          "xaxis": {
           "automargin": true,
           "gridcolor": "white",
           "linecolor": "white",
           "ticks": "",
           "title": {
            "standoff": 15
           },
           "zerolinecolor": "white",
           "zerolinewidth": 2
          },
          "yaxis": {
           "automargin": true,
           "gridcolor": "white",
           "linecolor": "white",
           "ticks": "",
           "title": {
            "standoff": 15
           },
           "zerolinecolor": "white",
           "zerolinewidth": 2
          }
         }
        },
        "title": {
         "text": "Percentage of Populations with Disorders/Mental Illnesses (2017)"
        }
       }
      }
     },
     "metadata": {},
     "output_type": "display_data"
    }
   ],
   "source": [
    "import plotly.express as px\n",
    "\n",
    "fig = px.choropleth(happiness_and_mental_health, locations=\"Code\",\n",
    "                    color='%_pop_w_disorders/mental_illnesses',\n",
    "                    hover_name=\"Country\",\n",
    "                    title = \"Percentage of Populations with Disorders/Mental Illnesses (2017)\", color_continuous_scale=px.colors.sequential.PuRd)\n",
    " \n",
    " \n",
    "fig[\"layout\"].pop(\"updatemenus\")\n",
    "fig.show()"
   ]
  },
  {
   "attachments": {},
   "cell_type": "markdown",
   "metadata": {},
   "source": [
    "While this gives us a good idea of percentages of populations with mental illness/disorders, some of the countries in the above map do not have a percentage either due to data that was lost during merges (conflicting country names), or simply a lack of data present. Also note that more of the 'developed west' (settler countries like the U.S. and Australia, in addition to parts of West Europe like the U.K. and France) have higher percentages. While I am unsure of the psychological state of those in these countries, data collection in other parts of the world (especially those dealing with war like in Syria and Afghanistan) regarding this issue seems lacking."
   ]
  },
  {
   "attachments": {},
   "cell_type": "markdown",
   "metadata": {},
   "source": [
    "Let's now look at how each country fares in relation to their happiness report data. Code for creating the maps are, once again, from <a href='https://www.askpython.com/python/examples/plot-geographical-data-python-plotly'>Ask Python</a>."
   ]
  },
  {
   "cell_type": "code",
   "execution_count": 260,
   "metadata": {},
   "outputs": [
    {
     "data": {
      "application/vnd.plotly.v1+json": {
       "config": {
        "plotlyServerURL": "https://plot.ly"
       },
       "data": [
        {
         "coloraxis": "coloraxis",
         "geo": "geo",
         "hovertemplate": "<b>%{hovertext}</b><br><br>Code=%{location}<br>Happiness.Score=%{z}<extra></extra>",
         "hovertext": [
          "Norway",
          "Denmark",
          "Iceland",
          "Switzerland",
          "Finland",
          "Netherlands",
          "Canada",
          "New Zealand",
          "Sweden",
          "Australia",
          "Israel",
          "Costa Rica",
          "Austria",
          "United States",
          "Ireland",
          "Germany",
          "Belgium",
          "Luxembourg",
          "United Kingdom",
          "Chile",
          "United Arab Emirates",
          "Brazil",
          "Czech Republic",
          "Argentina",
          "Mexico",
          "Singapore",
          "Malta",
          "Uruguay",
          "Guatemala",
          "Panama",
          "France",
          "Thailand",
          "Spain",
          "Qatar",
          "Colombia",
          "Saudi Arabia",
          "Trinidad and Tobago",
          "Kuwait",
          "Slovakia",
          "Bahrain",
          "Malaysia",
          "Nicaragua",
          "Ecuador",
          "El Salvador",
          "Poland",
          "Uzbekistan",
          "Italy",
          "Russia",
          "Belize",
          "Japan",
          "Lithuania",
          "Algeria",
          "Latvia",
          "South Korea",
          "Moldova",
          "Romania",
          "Bolivia",
          "Turkmenistan",
          "Kazakhstan",
          "Slovenia",
          "Peru",
          "Mauritius",
          "Cyprus",
          "Estonia",
          "Belarus",
          "Libya",
          "Turkey",
          "Paraguay",
          "Philippines",
          "Serbia",
          "Jordan",
          "Hungary",
          "Jamaica",
          "Croatia",
          "China",
          "Pakistan",
          "Indonesia",
          "Venezuela",
          "Montenegro",
          "Morocco",
          "Azerbaijan",
          "Dominican Republic",
          "Greece",
          "Lebanon",
          "Portugal",
          "Bosnia and Herzegovina",
          "Honduras",
          "Macedonia",
          "Somalia",
          "Vietnam",
          "Nigeria",
          "Tajikistan",
          "Bhutan",
          "Kyrgyzstan",
          "Nepal",
          "Mongolia",
          "South Africa",
          "Tunisia",
          "Egypt",
          "Bulgaria",
          "Sierra Leone",
          "Cameroon",
          "Iran",
          "Albania",
          "Bangladesh",
          "Namibia",
          "Kenya",
          "Mozambique",
          "Myanmar",
          "Senegal",
          "Zambia",
          "Iraq",
          "Gabon",
          "Ethiopia",
          "Sri Lanka",
          "Armenia",
          "India",
          "Mauritania",
          "Georgia",
          "Mali",
          "Cambodia",
          "Sudan",
          "Ghana",
          "Ukraine",
          "Uganda",
          "Burkina Faso",
          "Niger",
          "Malawi",
          "Chad",
          "Zimbabwe",
          "Lesotho",
          "Angola",
          "Afghanistan",
          "Botswana",
          "Benin",
          "Madagascar",
          "Haiti",
          "Yemen",
          "South Sudan",
          "Liberia",
          "Guinea",
          "Togo",
          "Rwanda",
          "Syria",
          "Tanzania",
          "Burundi",
          "Central African Republic"
         ],
         "locations": [
          "NOR",
          "DNK",
          "ISL",
          "CHE",
          "FIN",
          "NLD",
          "CAN",
          "NZL",
          "SWE",
          "AUS",
          "ISR",
          "CRI",
          "AUT",
          "USA",
          "IRL",
          "DEU",
          "BEL",
          "LUX",
          "GBR",
          "CHL",
          "ARE",
          "BRA",
          "CZE",
          "ARG",
          "MEX",
          "SGP",
          "MLT",
          "URY",
          "GTM",
          "PAN",
          "FRA",
          "THA",
          "ESP",
          "QAT",
          "COL",
          "SAU",
          "TTO",
          "KWT",
          "SVK",
          "BHR",
          "MYS",
          "NIC",
          "ECU",
          "SLV",
          "POL",
          "UZB",
          "ITA",
          "RUS",
          "BLZ",
          "JPN",
          "LTU",
          "DZA",
          "LVA",
          "KOR",
          "MDA",
          "ROU",
          "BOL",
          "TKM",
          "KAZ",
          "SVN",
          "PER",
          "MUS",
          "CYP",
          "EST",
          "BLR",
          "LBY",
          "TUR",
          "PRY",
          "PHL",
          "SRB",
          "JOR",
          "HUN",
          "JAM",
          "HRV",
          "CHN",
          "PAK",
          "IDN",
          "VEN",
          "MNE",
          "MAR",
          "AZE",
          "DOM",
          "GRC",
          "LBN",
          "PRT",
          "BIH",
          "HND",
          "MKD",
          "SOM",
          "VNM",
          "NGA",
          "TJK",
          "BTN",
          "KGZ",
          "NPL",
          "MNG",
          "ZAF",
          "TUN",
          "EGY",
          "BGR",
          "SLE",
          "CMR",
          "IRN",
          "ALB",
          "BGD",
          "NAM",
          "KEN",
          "MOZ",
          "MMR",
          "SEN",
          "ZMB",
          "IRQ",
          "GAB",
          "ETH",
          "LKA",
          "ARM",
          "IND",
          "MRT",
          "GEO",
          "MLI",
          "KHM",
          "SDN",
          "GHA",
          "UKR",
          "UGA",
          "BFA",
          "NER",
          "MWI",
          "TCD",
          "ZWE",
          "LSO",
          "AGO",
          "AFG",
          "BWA",
          "BEN",
          "MDG",
          "HTI",
          "YEM",
          "SSD",
          "LBR",
          "GIN",
          "TGO",
          "RWA",
          "SYR",
          "TZA",
          "BDI",
          "CAF"
         ],
         "name": "",
         "type": "choropleth",
         "z": [
          7.53700017929077,
          7.52199983596802,
          7.50400018692017,
          7.49399995803833,
          7.4689998626709,
          7.3769998550415,
          7.31599998474121,
          7.31400012969971,
          7.28399991989136,
          7.28399991989136,
          7.21299982070923,
          7.0789999961853,
          7.00600004196167,
          6.99300003051758,
          6.97700023651123,
          6.95100021362305,
          6.89099979400635,
          6.86299991607666,
          6.71400022506714,
          6.65199995040894,
          6.64799976348877,
          6.63500022888184,
          6.60900020599365,
          6.59899997711182,
          6.57800006866455,
          6.57200002670288,
          6.52699995040894,
          6.4539999961853,
          6.4539999961853,
          6.4520001411438,
          6.44199991226196,
          6.42399978637695,
          6.40299987792969,
          6.375,
          6.35699987411499,
          6.3439998626709,
          6.16800022125244,
          6.10500001907349,
          6.09800004959106,
          6.08699989318848,
          6.08400011062622,
          6.07100009918213,
          6.00799989700317,
          6.00299978256226,
          5.97300004959106,
          5.97100019454956,
          5.96400022506714,
          5.96299982070923,
          5.95599985122681,
          5.92000007629395,
          5.90199995040894,
          5.87200021743774,
          5.84999990463257,
          5.83799982070923,
          5.83799982070923,
          5.82499980926514,
          5.82299995422363,
          5.82200002670288,
          5.81899976730347,
          5.75799989700317,
          5.71500015258789,
          5.62900018692017,
          5.62099981307983,
          5.61100006103516,
          5.56899976730347,
          5.52500009536743,
          5.5,
          5.49300003051758,
          5.42999982833862,
          5.39499998092651,
          5.33599996566772,
          5.32399988174438,
          5.31099987030029,
          5.29300022125244,
          5.27299976348877,
          5.26900005340576,
          5.26200008392334,
          5.25,
          5.23699998855591,
          5.2350001335144,
          5.23400020599365,
          5.23000001907349,
          5.22700023651123,
          5.22499990463257,
          5.19500017166138,
          5.18200016021729,
          5.18100023269653,
          5.17500019073486,
          5.15100002288818,
          5.07399988174438,
          5.07399988174438,
          5.04099988937378,
          5.01100015640259,
          5.00400018692017,
          4.96199989318848,
          4.95499992370605,
          4.8289999961853,
          4.80499982833862,
          4.7350001335144,
          4.71400022506714,
          4.70900011062622,
          4.69500017166138,
          4.69199991226196,
          4.64400005340576,
          4.60799980163574,
          4.57399988174438,
          4.55299997329712,
          4.55000019073486,
          4.54500007629395,
          4.53499984741211,
          4.51399993896484,
          4.49700021743774,
          4.46500015258789,
          4.46000003814697,
          4.44000005722046,
          4.37599992752075,
          4.31500005722046,
          4.29199981689453,
          4.28599977493286,
          4.19000005722046,
          4.16800022125244,
          4.13899993896484,
          4.11999988555908,
          4.09600019454956,
          4.08099985122681,
          4.03200006484985,
          4.02799987792969,
          3.97000002861023,
          3.93600010871887,
          3.875,
          3.80800008773804,
          3.79500007629395,
          3.79399991035461,
          3.76600003242493,
          3.65700006484985,
          3.64400005340576,
          3.6029999256134,
          3.59299993515015,
          3.59100008010864,
          3.53299999237061,
          3.50699996948242,
          3.49499988555908,
          3.47099995613098,
          3.46199989318848,
          3.34899997711182,
          2.90499997138977,
          2.69300007820129
         ]
        }
       ],
       "layout": {
        "coloraxis": {
         "colorbar": {
          "title": {
           "text": "Happiness.Score"
          }
         },
         "colorscale": [
          [
           0,
           "rgb(247,244,249)"
          ],
          [
           0.125,
           "rgb(231,225,239)"
          ],
          [
           0.25,
           "rgb(212,185,218)"
          ],
          [
           0.375,
           "rgb(201,148,199)"
          ],
          [
           0.5,
           "rgb(223,101,176)"
          ],
          [
           0.625,
           "rgb(231,41,138)"
          ],
          [
           0.75,
           "rgb(206,18,86)"
          ],
          [
           0.875,
           "rgb(152,0,67)"
          ],
          [
           1,
           "rgb(103,0,31)"
          ]
         ]
        },
        "geo": {
         "center": {},
         "domain": {
          "x": [
           0,
           1
          ],
          "y": [
           0,
           1
          ]
         }
        },
        "legend": {
         "tracegroupgap": 0
        },
        "template": {
         "data": {
          "bar": [
           {
            "error_x": {
             "color": "#2a3f5f"
            },
            "error_y": {
             "color": "#2a3f5f"
            },
            "marker": {
             "line": {
              "color": "#E5ECF6",
              "width": 0.5
             },
             "pattern": {
              "fillmode": "overlay",
              "size": 10,
              "solidity": 0.2
             }
            },
            "type": "bar"
           }
          ],
          "barpolar": [
           {
            "marker": {
             "line": {
              "color": "#E5ECF6",
              "width": 0.5
             },
             "pattern": {
              "fillmode": "overlay",
              "size": 10,
              "solidity": 0.2
             }
            },
            "type": "barpolar"
           }
          ],
          "carpet": [
           {
            "aaxis": {
             "endlinecolor": "#2a3f5f",
             "gridcolor": "white",
             "linecolor": "white",
             "minorgridcolor": "white",
             "startlinecolor": "#2a3f5f"
            },
            "baxis": {
             "endlinecolor": "#2a3f5f",
             "gridcolor": "white",
             "linecolor": "white",
             "minorgridcolor": "white",
             "startlinecolor": "#2a3f5f"
            },
            "type": "carpet"
           }
          ],
          "choropleth": [
           {
            "colorbar": {
             "outlinewidth": 0,
             "ticks": ""
            },
            "type": "choropleth"
           }
          ],
          "contour": [
           {
            "colorbar": {
             "outlinewidth": 0,
             "ticks": ""
            },
            "colorscale": [
             [
              0,
              "#0d0887"
             ],
             [
              0.1111111111111111,
              "#46039f"
             ],
             [
              0.2222222222222222,
              "#7201a8"
             ],
             [
              0.3333333333333333,
              "#9c179e"
             ],
             [
              0.4444444444444444,
              "#bd3786"
             ],
             [
              0.5555555555555556,
              "#d8576b"
             ],
             [
              0.6666666666666666,
              "#ed7953"
             ],
             [
              0.7777777777777778,
              "#fb9f3a"
             ],
             [
              0.8888888888888888,
              "#fdca26"
             ],
             [
              1,
              "#f0f921"
             ]
            ],
            "type": "contour"
           }
          ],
          "contourcarpet": [
           {
            "colorbar": {
             "outlinewidth": 0,
             "ticks": ""
            },
            "type": "contourcarpet"
           }
          ],
          "heatmap": [
           {
            "colorbar": {
             "outlinewidth": 0,
             "ticks": ""
            },
            "colorscale": [
             [
              0,
              "#0d0887"
             ],
             [
              0.1111111111111111,
              "#46039f"
             ],
             [
              0.2222222222222222,
              "#7201a8"
             ],
             [
              0.3333333333333333,
              "#9c179e"
             ],
             [
              0.4444444444444444,
              "#bd3786"
             ],
             [
              0.5555555555555556,
              "#d8576b"
             ],
             [
              0.6666666666666666,
              "#ed7953"
             ],
             [
              0.7777777777777778,
              "#fb9f3a"
             ],
             [
              0.8888888888888888,
              "#fdca26"
             ],
             [
              1,
              "#f0f921"
             ]
            ],
            "type": "heatmap"
           }
          ],
          "heatmapgl": [
           {
            "colorbar": {
             "outlinewidth": 0,
             "ticks": ""
            },
            "colorscale": [
             [
              0,
              "#0d0887"
             ],
             [
              0.1111111111111111,
              "#46039f"
             ],
             [
              0.2222222222222222,
              "#7201a8"
             ],
             [
              0.3333333333333333,
              "#9c179e"
             ],
             [
              0.4444444444444444,
              "#bd3786"
             ],
             [
              0.5555555555555556,
              "#d8576b"
             ],
             [
              0.6666666666666666,
              "#ed7953"
             ],
             [
              0.7777777777777778,
              "#fb9f3a"
             ],
             [
              0.8888888888888888,
              "#fdca26"
             ],
             [
              1,
              "#f0f921"
             ]
            ],
            "type": "heatmapgl"
           }
          ],
          "histogram": [
           {
            "marker": {
             "pattern": {
              "fillmode": "overlay",
              "size": 10,
              "solidity": 0.2
             }
            },
            "type": "histogram"
           }
          ],
          "histogram2d": [
           {
            "colorbar": {
             "outlinewidth": 0,
             "ticks": ""
            },
            "colorscale": [
             [
              0,
              "#0d0887"
             ],
             [
              0.1111111111111111,
              "#46039f"
             ],
             [
              0.2222222222222222,
              "#7201a8"
             ],
             [
              0.3333333333333333,
              "#9c179e"
             ],
             [
              0.4444444444444444,
              "#bd3786"
             ],
             [
              0.5555555555555556,
              "#d8576b"
             ],
             [
              0.6666666666666666,
              "#ed7953"
             ],
             [
              0.7777777777777778,
              "#fb9f3a"
             ],
             [
              0.8888888888888888,
              "#fdca26"
             ],
             [
              1,
              "#f0f921"
             ]
            ],
            "type": "histogram2d"
           }
          ],
          "histogram2dcontour": [
           {
            "colorbar": {
             "outlinewidth": 0,
             "ticks": ""
            },
            "colorscale": [
             [
              0,
              "#0d0887"
             ],
             [
              0.1111111111111111,
              "#46039f"
             ],
             [
              0.2222222222222222,
              "#7201a8"
             ],
             [
              0.3333333333333333,
              "#9c179e"
             ],
             [
              0.4444444444444444,
              "#bd3786"
             ],
             [
              0.5555555555555556,
              "#d8576b"
             ],
             [
              0.6666666666666666,
              "#ed7953"
             ],
             [
              0.7777777777777778,
              "#fb9f3a"
             ],
             [
              0.8888888888888888,
              "#fdca26"
             ],
             [
              1,
              "#f0f921"
             ]
            ],
            "type": "histogram2dcontour"
           }
          ],
          "mesh3d": [
           {
            "colorbar": {
             "outlinewidth": 0,
             "ticks": ""
            },
            "type": "mesh3d"
           }
          ],
          "parcoords": [
           {
            "line": {
             "colorbar": {
              "outlinewidth": 0,
              "ticks": ""
             }
            },
            "type": "parcoords"
           }
          ],
          "pie": [
           {
            "automargin": true,
            "type": "pie"
           }
          ],
          "scatter": [
           {
            "marker": {
             "colorbar": {
              "outlinewidth": 0,
              "ticks": ""
             }
            },
            "type": "scatter"
           }
          ],
          "scatter3d": [
           {
            "line": {
             "colorbar": {
              "outlinewidth": 0,
              "ticks": ""
             }
            },
            "marker": {
             "colorbar": {
              "outlinewidth": 0,
              "ticks": ""
             }
            },
            "type": "scatter3d"
           }
          ],
          "scattercarpet": [
           {
            "marker": {
             "colorbar": {
              "outlinewidth": 0,
              "ticks": ""
             }
            },
            "type": "scattercarpet"
           }
          ],
          "scattergeo": [
           {
            "marker": {
             "colorbar": {
              "outlinewidth": 0,
              "ticks": ""
             }
            },
            "type": "scattergeo"
           }
          ],
          "scattergl": [
           {
            "marker": {
             "colorbar": {
              "outlinewidth": 0,
              "ticks": ""
             }
            },
            "type": "scattergl"
           }
          ],
          "scattermapbox": [
           {
            "marker": {
             "colorbar": {
              "outlinewidth": 0,
              "ticks": ""
             }
            },
            "type": "scattermapbox"
           }
          ],
          "scatterpolar": [
           {
            "marker": {
             "colorbar": {
              "outlinewidth": 0,
              "ticks": ""
             }
            },
            "type": "scatterpolar"
           }
          ],
          "scatterpolargl": [
           {
            "marker": {
             "colorbar": {
              "outlinewidth": 0,
              "ticks": ""
             }
            },
            "type": "scatterpolargl"
           }
          ],
          "scatterternary": [
           {
            "marker": {
             "colorbar": {
              "outlinewidth": 0,
              "ticks": ""
             }
            },
            "type": "scatterternary"
           }
          ],
          "surface": [
           {
            "colorbar": {
             "outlinewidth": 0,
             "ticks": ""
            },
            "colorscale": [
             [
              0,
              "#0d0887"
             ],
             [
              0.1111111111111111,
              "#46039f"
             ],
             [
              0.2222222222222222,
              "#7201a8"
             ],
             [
              0.3333333333333333,
              "#9c179e"
             ],
             [
              0.4444444444444444,
              "#bd3786"
             ],
             [
              0.5555555555555556,
              "#d8576b"
             ],
             [
              0.6666666666666666,
              "#ed7953"
             ],
             [
              0.7777777777777778,
              "#fb9f3a"
             ],
             [
              0.8888888888888888,
              "#fdca26"
             ],
             [
              1,
              "#f0f921"
             ]
            ],
            "type": "surface"
           }
          ],
          "table": [
           {
            "cells": {
             "fill": {
              "color": "#EBF0F8"
             },
             "line": {
              "color": "white"
             }
            },
            "header": {
             "fill": {
              "color": "#C8D4E3"
             },
             "line": {
              "color": "white"
             }
            },
            "type": "table"
           }
          ]
         },
         "layout": {
          "annotationdefaults": {
           "arrowcolor": "#2a3f5f",
           "arrowhead": 0,
           "arrowwidth": 1
          },
          "autotypenumbers": "strict",
          "coloraxis": {
           "colorbar": {
            "outlinewidth": 0,
            "ticks": ""
           }
          },
          "colorscale": {
           "diverging": [
            [
             0,
             "#8e0152"
            ],
            [
             0.1,
             "#c51b7d"
            ],
            [
             0.2,
             "#de77ae"
            ],
            [
             0.3,
             "#f1b6da"
            ],
            [
             0.4,
             "#fde0ef"
            ],
            [
             0.5,
             "#f7f7f7"
            ],
            [
             0.6,
             "#e6f5d0"
            ],
            [
             0.7,
             "#b8e186"
            ],
            [
             0.8,
             "#7fbc41"
            ],
            [
             0.9,
             "#4d9221"
            ],
            [
             1,
             "#276419"
            ]
           ],
           "sequential": [
            [
             0,
             "#0d0887"
            ],
            [
             0.1111111111111111,
             "#46039f"
            ],
            [
             0.2222222222222222,
             "#7201a8"
            ],
            [
             0.3333333333333333,
             "#9c179e"
            ],
            [
             0.4444444444444444,
             "#bd3786"
            ],
            [
             0.5555555555555556,
             "#d8576b"
            ],
            [
             0.6666666666666666,
             "#ed7953"
            ],
            [
             0.7777777777777778,
             "#fb9f3a"
            ],
            [
             0.8888888888888888,
             "#fdca26"
            ],
            [
             1,
             "#f0f921"
            ]
           ],
           "sequentialminus": [
            [
             0,
             "#0d0887"
            ],
            [
             0.1111111111111111,
             "#46039f"
            ],
            [
             0.2222222222222222,
             "#7201a8"
            ],
            [
             0.3333333333333333,
             "#9c179e"
            ],
            [
             0.4444444444444444,
             "#bd3786"
            ],
            [
             0.5555555555555556,
             "#d8576b"
            ],
            [
             0.6666666666666666,
             "#ed7953"
            ],
            [
             0.7777777777777778,
             "#fb9f3a"
            ],
            [
             0.8888888888888888,
             "#fdca26"
            ],
            [
             1,
             "#f0f921"
            ]
           ]
          },
          "colorway": [
           "#636efa",
           "#EF553B",
           "#00cc96",
           "#ab63fa",
           "#FFA15A",
           "#19d3f3",
           "#FF6692",
           "#B6E880",
           "#FF97FF",
           "#FECB52"
          ],
          "font": {
           "color": "#2a3f5f"
          },
          "geo": {
           "bgcolor": "white",
           "lakecolor": "white",
           "landcolor": "#E5ECF6",
           "showlakes": true,
           "showland": true,
           "subunitcolor": "white"
          },
          "hoverlabel": {
           "align": "left"
          },
          "hovermode": "closest",
          "mapbox": {
           "style": "light"
          },
          "paper_bgcolor": "white",
          "plot_bgcolor": "#E5ECF6",
          "polar": {
           "angularaxis": {
            "gridcolor": "white",
            "linecolor": "white",
            "ticks": ""
           },
           "bgcolor": "#E5ECF6",
           "radialaxis": {
            "gridcolor": "white",
            "linecolor": "white",
            "ticks": ""
           }
          },
          "scene": {
           "xaxis": {
            "backgroundcolor": "#E5ECF6",
            "gridcolor": "white",
            "gridwidth": 2,
            "linecolor": "white",
            "showbackground": true,
            "ticks": "",
            "zerolinecolor": "white"
           },
           "yaxis": {
            "backgroundcolor": "#E5ECF6",
            "gridcolor": "white",
            "gridwidth": 2,
            "linecolor": "white",
            "showbackground": true,
            "ticks": "",
            "zerolinecolor": "white"
           },
           "zaxis": {
            "backgroundcolor": "#E5ECF6",
            "gridcolor": "white",
            "gridwidth": 2,
            "linecolor": "white",
            "showbackground": true,
            "ticks": "",
            "zerolinecolor": "white"
           }
          },
          "shapedefaults": {
           "line": {
            "color": "#2a3f5f"
           }
          },
          "ternary": {
           "aaxis": {
            "gridcolor": "white",
            "linecolor": "white",
            "ticks": ""
           },
           "baxis": {
            "gridcolor": "white",
            "linecolor": "white",
            "ticks": ""
           },
           "bgcolor": "#E5ECF6",
           "caxis": {
            "gridcolor": "white",
            "linecolor": "white",
            "ticks": ""
           }
          },
          "title": {
           "x": 0.05
          },
          "xaxis": {
           "automargin": true,
           "gridcolor": "white",
           "linecolor": "white",
           "ticks": "",
           "title": {
            "standoff": 15
           },
           "zerolinecolor": "white",
           "zerolinewidth": 2
          },
          "yaxis": {
           "automargin": true,
           "gridcolor": "white",
           "linecolor": "white",
           "ticks": "",
           "title": {
            "standoff": 15
           },
           "zerolinecolor": "white",
           "zerolinewidth": 2
          }
         }
        },
        "title": {
         "text": "Countries and their Happiness Score (2017)"
        }
       }
      }
     },
     "metadata": {},
     "output_type": "display_data"
    }
   ],
   "source": [
    "scores = px.choropleth(happiness_and_mental_health, locations='Code',\n",
    "                    color='Happiness.Score',\n",
    "                    hover_name=\"Country\",\n",
    "                    title = \"Countries and their Happiness Score (2017)\", color_continuous_scale=px.colors.sequential.PuRd)\n",
    " \n",
    " \n",
    "scores[\"layout\"].pop(\"updatemenus\")\n",
    "scores.show()"
   ]
  },
  {
   "attachments": {},
   "cell_type": "markdown",
   "metadata": {},
   "source": [
    "Note that while most of the 'western' world had higher percents of the population with mental illness/disorders, they also have the higher 'happiness' scores. Could this be due to bias in the report? How 'happy' are people? Is the higher happiness due to increased standards of living or accomodations for those that need it? What's prioritized in creating these scores? "
   ]
  },
  {
   "attachments": {},
   "cell_type": "markdown",
   "metadata": {},
   "source": [
    "Let's now map out countries in relation to their individual factors (and scores for those)."
   ]
  },
  {
   "cell_type": "code",
   "execution_count": 262,
   "metadata": {},
   "outputs": [
    {
     "data": {
      "application/vnd.plotly.v1+json": {
       "config": {
        "plotlyServerURL": "https://plot.ly"
       },
       "data": [
        {
         "coloraxis": "coloraxis",
         "geo": "geo",
         "hovertemplate": "<b>%{hovertext}</b><br><br>Code=%{location}<br>Economy..GDP.per.Capita.=%{z}<extra></extra>",
         "hovertext": [
          "Norway",
          "Denmark",
          "Iceland",
          "Switzerland",
          "Finland",
          "Netherlands",
          "Canada",
          "New Zealand",
          "Sweden",
          "Australia",
          "Israel",
          "Costa Rica",
          "Austria",
          "United States",
          "Ireland",
          "Germany",
          "Belgium",
          "Luxembourg",
          "United Kingdom",
          "Chile",
          "United Arab Emirates",
          "Brazil",
          "Czech Republic",
          "Argentina",
          "Mexico",
          "Singapore",
          "Malta",
          "Uruguay",
          "Guatemala",
          "Panama",
          "France",
          "Thailand",
          "Spain",
          "Qatar",
          "Colombia",
          "Saudi Arabia",
          "Trinidad and Tobago",
          "Kuwait",
          "Slovakia",
          "Bahrain",
          "Malaysia",
          "Nicaragua",
          "Ecuador",
          "El Salvador",
          "Poland",
          "Uzbekistan",
          "Italy",
          "Russia",
          "Belize",
          "Japan",
          "Lithuania",
          "Algeria",
          "Latvia",
          "South Korea",
          "Moldova",
          "Romania",
          "Bolivia",
          "Turkmenistan",
          "Kazakhstan",
          "Slovenia",
          "Peru",
          "Mauritius",
          "Cyprus",
          "Estonia",
          "Belarus",
          "Libya",
          "Turkey",
          "Paraguay",
          "Philippines",
          "Serbia",
          "Jordan",
          "Hungary",
          "Jamaica",
          "Croatia",
          "China",
          "Pakistan",
          "Indonesia",
          "Venezuela",
          "Montenegro",
          "Morocco",
          "Azerbaijan",
          "Dominican Republic",
          "Greece",
          "Lebanon",
          "Portugal",
          "Bosnia and Herzegovina",
          "Honduras",
          "Macedonia",
          "Somalia",
          "Vietnam",
          "Nigeria",
          "Tajikistan",
          "Bhutan",
          "Kyrgyzstan",
          "Nepal",
          "Mongolia",
          "South Africa",
          "Tunisia",
          "Egypt",
          "Bulgaria",
          "Sierra Leone",
          "Cameroon",
          "Iran",
          "Albania",
          "Bangladesh",
          "Namibia",
          "Kenya",
          "Mozambique",
          "Myanmar",
          "Senegal",
          "Zambia",
          "Iraq",
          "Gabon",
          "Ethiopia",
          "Sri Lanka",
          "Armenia",
          "India",
          "Mauritania",
          "Georgia",
          "Mali",
          "Cambodia",
          "Sudan",
          "Ghana",
          "Ukraine",
          "Uganda",
          "Burkina Faso",
          "Niger",
          "Malawi",
          "Chad",
          "Zimbabwe",
          "Lesotho",
          "Angola",
          "Afghanistan",
          "Botswana",
          "Benin",
          "Madagascar",
          "Haiti",
          "Yemen",
          "South Sudan",
          "Liberia",
          "Guinea",
          "Togo",
          "Rwanda",
          "Syria",
          "Tanzania",
          "Burundi",
          "Central African Republic"
         ],
         "locations": [
          "NOR",
          "DNK",
          "ISL",
          "CHE",
          "FIN",
          "NLD",
          "CAN",
          "NZL",
          "SWE",
          "AUS",
          "ISR",
          "CRI",
          "AUT",
          "USA",
          "IRL",
          "DEU",
          "BEL",
          "LUX",
          "GBR",
          "CHL",
          "ARE",
          "BRA",
          "CZE",
          "ARG",
          "MEX",
          "SGP",
          "MLT",
          "URY",
          "GTM",
          "PAN",
          "FRA",
          "THA",
          "ESP",
          "QAT",
          "COL",
          "SAU",
          "TTO",
          "KWT",
          "SVK",
          "BHR",
          "MYS",
          "NIC",
          "ECU",
          "SLV",
          "POL",
          "UZB",
          "ITA",
          "RUS",
          "BLZ",
          "JPN",
          "LTU",
          "DZA",
          "LVA",
          "KOR",
          "MDA",
          "ROU",
          "BOL",
          "TKM",
          "KAZ",
          "SVN",
          "PER",
          "MUS",
          "CYP",
          "EST",
          "BLR",
          "LBY",
          "TUR",
          "PRY",
          "PHL",
          "SRB",
          "JOR",
          "HUN",
          "JAM",
          "HRV",
          "CHN",
          "PAK",
          "IDN",
          "VEN",
          "MNE",
          "MAR",
          "AZE",
          "DOM",
          "GRC",
          "LBN",
          "PRT",
          "BIH",
          "HND",
          "MKD",
          "SOM",
          "VNM",
          "NGA",
          "TJK",
          "BTN",
          "KGZ",
          "NPL",
          "MNG",
          "ZAF",
          "TUN",
          "EGY",
          "BGR",
          "SLE",
          "CMR",
          "IRN",
          "ALB",
          "BGD",
          "NAM",
          "KEN",
          "MOZ",
          "MMR",
          "SEN",
          "ZMB",
          "IRQ",
          "GAB",
          "ETH",
          "LKA",
          "ARM",
          "IND",
          "MRT",
          "GEO",
          "MLI",
          "KHM",
          "SDN",
          "GHA",
          "UKR",
          "UGA",
          "BFA",
          "NER",
          "MWI",
          "TCD",
          "ZWE",
          "LSO",
          "AGO",
          "AFG",
          "BWA",
          "BEN",
          "MDG",
          "HTI",
          "YEM",
          "SSD",
          "LBR",
          "GIN",
          "TGO",
          "RWA",
          "SYR",
          "TZA",
          "BDI",
          "CAF"
         ],
         "name": "",
         "type": "choropleth",
         "z": [
          1.61646318435669,
          1.48238301277161,
          1.480633020401,
          1.56497955322266,
          1.44357192516327,
          1.50394463539124,
          1.47920441627502,
          1.40570604801178,
          1.49438726902008,
          1.484414935112,
          1.37538242340088,
          1.10970628261566,
          1.48709726333618,
          1.54625928401947,
          1.53570663928986,
          1.48792338371277,
          1.46378076076508,
          1.74194359779358,
          1.44163393974304,
          1.25278460979462,
          1.62634336948395,
          1.10735321044922,
          1.35268235206604,
          1.18529546260834,
          1.15318381786346,
          1.69227766990662,
          1.34327983856201,
          1.21755969524384,
          0.872001945972443,
          1.23374843597412,
          1.43092346191406,
          1.12786877155304,
          1.38439786434174,
          1.87076568603516,
          1.07062232494354,
          1.53062355518341,
          1.36135590076447,
          1.63295245170593,
          1.32539355754852,
          1.48841226100922,
          1.29121541976929,
          0.737299203872681,
          1.00082039833069,
          0.909784495830536,
          1.29178786277771,
          0.786441087722778,
          1.39506661891937,
          1.28177809715271,
          0.907975316047668,
          1.41691517829895,
          1.31458234786987,
          1.09186446666718,
          1.26074862480164,
          1.40167844295502,
          0.728870630264282,
          1.21768391132355,
          0.833756566047668,
          1.13077676296234,
          1.28455626964569,
          1.3412059545517,
          1.03522527217865,
          1.18939554691315,
          1.35593807697296,
          1.32087934017181,
          1.15655755996704,
          1.10180306434631,
          1.19827437400818,
          0.932537317276001,
          0.85769921541214,
          1.06931757926941,
          0.991012394428253,
          1.2860119342804,
          0.925579309463501,
          1.22255623340607,
          1.08116579055786,
          0.72688353061676,
          0.995538592338562,
          1.12843120098114,
          1.12112903594971,
          0.878114581108093,
          1.15360176563263,
          1.07937383651733,
          1.28948748111725,
          1.07498753070831,
          1.3151752948761,
          0.982409417629242,
          0.730573117733002,
          1.06457793712616,
          0.0226431842893362,
          0.788547575473785,
          0.783756256103516,
          0.524713635444641,
          0.885416388511658,
          0.596220076084137,
          0.479820191860199,
          1.02723586559296,
          1.05469870567322,
          1.00726580619812,
          0.989701807498932,
          1.1614590883255,
          0.36842092871666,
          0.564305365085602,
          1.15687310695648,
          0.996192753314972,
          0.586682975292206,
          0.964434325695038,
          0.560479462146759,
          0.234305649995804,
          0.367110550403595,
          0.479309022426605,
          0.636406779289246,
          1.10271048545837,
          1.1982102394104,
          0.339233845472336,
          1.00985014438629,
          0.900596737861633,
          0.792221248149872,
          0.648457288742065,
          0.950612664222717,
          0.476180493831635,
          0.601765096187592,
          0.65951669216156,
          0.667224824428558,
          0.89465194940567,
          0.381430715322495,
          0.3502277135849,
          0.161925330758095,
          0.233442038297653,
          0.438012987375259,
          0.375846534967422,
          0.521021246910095,
          0.858428180217743,
          0.401477217674255,
          1.12209415435791,
          0.431085407733917,
          0.305808693170547,
          0.368610262870789,
          0.591683447360992,
          0.39724862575531,
          0.119041793048382,
          0.244549930095673,
          0.305444717407227,
          0.368745893239975,
          0.777153134346008,
          0.511135876178741,
          0.091622568666935,
          0
         ]
        }
       ],
       "layout": {
        "coloraxis": {
         "colorbar": {
          "title": {
           "text": "Economy..GDP.per.Capita."
          }
         },
         "colorscale": [
          [
           0,
           "rgb(247,244,249)"
          ],
          [
           0.125,
           "rgb(231,225,239)"
          ],
          [
           0.25,
           "rgb(212,185,218)"
          ],
          [
           0.375,
           "rgb(201,148,199)"
          ],
          [
           0.5,
           "rgb(223,101,176)"
          ],
          [
           0.625,
           "rgb(231,41,138)"
          ],
          [
           0.75,
           "rgb(206,18,86)"
          ],
          [
           0.875,
           "rgb(152,0,67)"
          ],
          [
           1,
           "rgb(103,0,31)"
          ]
         ]
        },
        "geo": {
         "center": {},
         "domain": {
          "x": [
           0,
           1
          ],
          "y": [
           0,
           1
          ]
         }
        },
        "legend": {
         "tracegroupgap": 0
        },
        "template": {
         "data": {
          "bar": [
           {
            "error_x": {
             "color": "#2a3f5f"
            },
            "error_y": {
             "color": "#2a3f5f"
            },
            "marker": {
             "line": {
              "color": "#E5ECF6",
              "width": 0.5
             },
             "pattern": {
              "fillmode": "overlay",
              "size": 10,
              "solidity": 0.2
             }
            },
            "type": "bar"
           }
          ],
          "barpolar": [
           {
            "marker": {
             "line": {
              "color": "#E5ECF6",
              "width": 0.5
             },
             "pattern": {
              "fillmode": "overlay",
              "size": 10,
              "solidity": 0.2
             }
            },
            "type": "barpolar"
           }
          ],
          "carpet": [
           {
            "aaxis": {
             "endlinecolor": "#2a3f5f",
             "gridcolor": "white",
             "linecolor": "white",
             "minorgridcolor": "white",
             "startlinecolor": "#2a3f5f"
            },
            "baxis": {
             "endlinecolor": "#2a3f5f",
             "gridcolor": "white",
             "linecolor": "white",
             "minorgridcolor": "white",
             "startlinecolor": "#2a3f5f"
            },
            "type": "carpet"
           }
          ],
          "choropleth": [
           {
            "colorbar": {
             "outlinewidth": 0,
             "ticks": ""
            },
            "type": "choropleth"
           }
          ],
          "contour": [
           {
            "colorbar": {
             "outlinewidth": 0,
             "ticks": ""
            },
            "colorscale": [
             [
              0,
              "#0d0887"
             ],
             [
              0.1111111111111111,
              "#46039f"
             ],
             [
              0.2222222222222222,
              "#7201a8"
             ],
             [
              0.3333333333333333,
              "#9c179e"
             ],
             [
              0.4444444444444444,
              "#bd3786"
             ],
             [
              0.5555555555555556,
              "#d8576b"
             ],
             [
              0.6666666666666666,
              "#ed7953"
             ],
             [
              0.7777777777777778,
              "#fb9f3a"
             ],
             [
              0.8888888888888888,
              "#fdca26"
             ],
             [
              1,
              "#f0f921"
             ]
            ],
            "type": "contour"
           }
          ],
          "contourcarpet": [
           {
            "colorbar": {
             "outlinewidth": 0,
             "ticks": ""
            },
            "type": "contourcarpet"
           }
          ],
          "heatmap": [
           {
            "colorbar": {
             "outlinewidth": 0,
             "ticks": ""
            },
            "colorscale": [
             [
              0,
              "#0d0887"
             ],
             [
              0.1111111111111111,
              "#46039f"
             ],
             [
              0.2222222222222222,
              "#7201a8"
             ],
             [
              0.3333333333333333,
              "#9c179e"
             ],
             [
              0.4444444444444444,
              "#bd3786"
             ],
             [
              0.5555555555555556,
              "#d8576b"
             ],
             [
              0.6666666666666666,
              "#ed7953"
             ],
             [
              0.7777777777777778,
              "#fb9f3a"
             ],
             [
              0.8888888888888888,
              "#fdca26"
             ],
             [
              1,
              "#f0f921"
             ]
            ],
            "type": "heatmap"
           }
          ],
          "heatmapgl": [
           {
            "colorbar": {
             "outlinewidth": 0,
             "ticks": ""
            },
            "colorscale": [
             [
              0,
              "#0d0887"
             ],
             [
              0.1111111111111111,
              "#46039f"
             ],
             [
              0.2222222222222222,
              "#7201a8"
             ],
             [
              0.3333333333333333,
              "#9c179e"
             ],
             [
              0.4444444444444444,
              "#bd3786"
             ],
             [
              0.5555555555555556,
              "#d8576b"
             ],
             [
              0.6666666666666666,
              "#ed7953"
             ],
             [
              0.7777777777777778,
              "#fb9f3a"
             ],
             [
              0.8888888888888888,
              "#fdca26"
             ],
             [
              1,
              "#f0f921"
             ]
            ],
            "type": "heatmapgl"
           }
          ],
          "histogram": [
           {
            "marker": {
             "pattern": {
              "fillmode": "overlay",
              "size": 10,
              "solidity": 0.2
             }
            },
            "type": "histogram"
           }
          ],
          "histogram2d": [
           {
            "colorbar": {
             "outlinewidth": 0,
             "ticks": ""
            },
            "colorscale": [
             [
              0,
              "#0d0887"
             ],
             [
              0.1111111111111111,
              "#46039f"
             ],
             [
              0.2222222222222222,
              "#7201a8"
             ],
             [
              0.3333333333333333,
              "#9c179e"
             ],
             [
              0.4444444444444444,
              "#bd3786"
             ],
             [
              0.5555555555555556,
              "#d8576b"
             ],
             [
              0.6666666666666666,
              "#ed7953"
             ],
             [
              0.7777777777777778,
              "#fb9f3a"
             ],
             [
              0.8888888888888888,
              "#fdca26"
             ],
             [
              1,
              "#f0f921"
             ]
            ],
            "type": "histogram2d"
           }
          ],
          "histogram2dcontour": [
           {
            "colorbar": {
             "outlinewidth": 0,
             "ticks": ""
            },
            "colorscale": [
             [
              0,
              "#0d0887"
             ],
             [
              0.1111111111111111,
              "#46039f"
             ],
             [
              0.2222222222222222,
              "#7201a8"
             ],
             [
              0.3333333333333333,
              "#9c179e"
             ],
             [
              0.4444444444444444,
              "#bd3786"
             ],
             [
              0.5555555555555556,
              "#d8576b"
             ],
             [
              0.6666666666666666,
              "#ed7953"
             ],
             [
              0.7777777777777778,
              "#fb9f3a"
             ],
             [
              0.8888888888888888,
              "#fdca26"
             ],
             [
              1,
              "#f0f921"
             ]
            ],
            "type": "histogram2dcontour"
           }
          ],
          "mesh3d": [
           {
            "colorbar": {
             "outlinewidth": 0,
             "ticks": ""
            },
            "type": "mesh3d"
           }
          ],
          "parcoords": [
           {
            "line": {
             "colorbar": {
              "outlinewidth": 0,
              "ticks": ""
             }
            },
            "type": "parcoords"
           }
          ],
          "pie": [
           {
            "automargin": true,
            "type": "pie"
           }
          ],
          "scatter": [
           {
            "marker": {
             "colorbar": {
              "outlinewidth": 0,
              "ticks": ""
             }
            },
            "type": "scatter"
           }
          ],
          "scatter3d": [
           {
            "line": {
             "colorbar": {
              "outlinewidth": 0,
              "ticks": ""
             }
            },
            "marker": {
             "colorbar": {
              "outlinewidth": 0,
              "ticks": ""
             }
            },
            "type": "scatter3d"
           }
          ],
          "scattercarpet": [
           {
            "marker": {
             "colorbar": {
              "outlinewidth": 0,
              "ticks": ""
             }
            },
            "type": "scattercarpet"
           }
          ],
          "scattergeo": [
           {
            "marker": {
             "colorbar": {
              "outlinewidth": 0,
              "ticks": ""
             }
            },
            "type": "scattergeo"
           }
          ],
          "scattergl": [
           {
            "marker": {
             "colorbar": {
              "outlinewidth": 0,
              "ticks": ""
             }
            },
            "type": "scattergl"
           }
          ],
          "scattermapbox": [
           {
            "marker": {
             "colorbar": {
              "outlinewidth": 0,
              "ticks": ""
             }
            },
            "type": "scattermapbox"
           }
          ],
          "scatterpolar": [
           {
            "marker": {
             "colorbar": {
              "outlinewidth": 0,
              "ticks": ""
             }
            },
            "type": "scatterpolar"
           }
          ],
          "scatterpolargl": [
           {
            "marker": {
             "colorbar": {
              "outlinewidth": 0,
              "ticks": ""
             }
            },
            "type": "scatterpolargl"
           }
          ],
          "scatterternary": [
           {
            "marker": {
             "colorbar": {
              "outlinewidth": 0,
              "ticks": ""
             }
            },
            "type": "scatterternary"
           }
          ],
          "surface": [
           {
            "colorbar": {
             "outlinewidth": 0,
             "ticks": ""
            },
            "colorscale": [
             [
              0,
              "#0d0887"
             ],
             [
              0.1111111111111111,
              "#46039f"
             ],
             [
              0.2222222222222222,
              "#7201a8"
             ],
             [
              0.3333333333333333,
              "#9c179e"
             ],
             [
              0.4444444444444444,
              "#bd3786"
             ],
             [
              0.5555555555555556,
              "#d8576b"
             ],
             [
              0.6666666666666666,
              "#ed7953"
             ],
             [
              0.7777777777777778,
              "#fb9f3a"
             ],
             [
              0.8888888888888888,
              "#fdca26"
             ],
             [
              1,
              "#f0f921"
             ]
            ],
            "type": "surface"
           }
          ],
          "table": [
           {
            "cells": {
             "fill": {
              "color": "#EBF0F8"
             },
             "line": {
              "color": "white"
             }
            },
            "header": {
             "fill": {
              "color": "#C8D4E3"
             },
             "line": {
              "color": "white"
             }
            },
            "type": "table"
           }
          ]
         },
         "layout": {
          "annotationdefaults": {
           "arrowcolor": "#2a3f5f",
           "arrowhead": 0,
           "arrowwidth": 1
          },
          "autotypenumbers": "strict",
          "coloraxis": {
           "colorbar": {
            "outlinewidth": 0,
            "ticks": ""
           }
          },
          "colorscale": {
           "diverging": [
            [
             0,
             "#8e0152"
            ],
            [
             0.1,
             "#c51b7d"
            ],
            [
             0.2,
             "#de77ae"
            ],
            [
             0.3,
             "#f1b6da"
            ],
            [
             0.4,
             "#fde0ef"
            ],
            [
             0.5,
             "#f7f7f7"
            ],
            [
             0.6,
             "#e6f5d0"
            ],
            [
             0.7,
             "#b8e186"
            ],
            [
             0.8,
             "#7fbc41"
            ],
            [
             0.9,
             "#4d9221"
            ],
            [
             1,
             "#276419"
            ]
           ],
           "sequential": [
            [
             0,
             "#0d0887"
            ],
            [
             0.1111111111111111,
             "#46039f"
            ],
            [
             0.2222222222222222,
             "#7201a8"
            ],
            [
             0.3333333333333333,
             "#9c179e"
            ],
            [
             0.4444444444444444,
             "#bd3786"
            ],
            [
             0.5555555555555556,
             "#d8576b"
            ],
            [
             0.6666666666666666,
             "#ed7953"
            ],
            [
             0.7777777777777778,
             "#fb9f3a"
            ],
            [
             0.8888888888888888,
             "#fdca26"
            ],
            [
             1,
             "#f0f921"
            ]
           ],
           "sequentialminus": [
            [
             0,
             "#0d0887"
            ],
            [
             0.1111111111111111,
             "#46039f"
            ],
            [
             0.2222222222222222,
             "#7201a8"
            ],
            [
             0.3333333333333333,
             "#9c179e"
            ],
            [
             0.4444444444444444,
             "#bd3786"
            ],
            [
             0.5555555555555556,
             "#d8576b"
            ],
            [
             0.6666666666666666,
             "#ed7953"
            ],
            [
             0.7777777777777778,
             "#fb9f3a"
            ],
            [
             0.8888888888888888,
             "#fdca26"
            ],
            [
             1,
             "#f0f921"
            ]
           ]
          },
          "colorway": [
           "#636efa",
           "#EF553B",
           "#00cc96",
           "#ab63fa",
           "#FFA15A",
           "#19d3f3",
           "#FF6692",
           "#B6E880",
           "#FF97FF",
           "#FECB52"
          ],
          "font": {
           "color": "#2a3f5f"
          },
          "geo": {
           "bgcolor": "white",
           "lakecolor": "white",
           "landcolor": "#E5ECF6",
           "showlakes": true,
           "showland": true,
           "subunitcolor": "white"
          },
          "hoverlabel": {
           "align": "left"
          },
          "hovermode": "closest",
          "mapbox": {
           "style": "light"
          },
          "paper_bgcolor": "white",
          "plot_bgcolor": "#E5ECF6",
          "polar": {
           "angularaxis": {
            "gridcolor": "white",
            "linecolor": "white",
            "ticks": ""
           },
           "bgcolor": "#E5ECF6",
           "radialaxis": {
            "gridcolor": "white",
            "linecolor": "white",
            "ticks": ""
           }
          },
          "scene": {
           "xaxis": {
            "backgroundcolor": "#E5ECF6",
            "gridcolor": "white",
            "gridwidth": 2,
            "linecolor": "white",
            "showbackground": true,
            "ticks": "",
            "zerolinecolor": "white"
           },
           "yaxis": {
            "backgroundcolor": "#E5ECF6",
            "gridcolor": "white",
            "gridwidth": 2,
            "linecolor": "white",
            "showbackground": true,
            "ticks": "",
            "zerolinecolor": "white"
           },
           "zaxis": {
            "backgroundcolor": "#E5ECF6",
            "gridcolor": "white",
            "gridwidth": 2,
            "linecolor": "white",
            "showbackground": true,
            "ticks": "",
            "zerolinecolor": "white"
           }
          },
          "shapedefaults": {
           "line": {
            "color": "#2a3f5f"
           }
          },
          "ternary": {
           "aaxis": {
            "gridcolor": "white",
            "linecolor": "white",
            "ticks": ""
           },
           "baxis": {
            "gridcolor": "white",
            "linecolor": "white",
            "ticks": ""
           },
           "bgcolor": "#E5ECF6",
           "caxis": {
            "gridcolor": "white",
            "linecolor": "white",
            "ticks": ""
           }
          },
          "title": {
           "x": 0.05
          },
          "xaxis": {
           "automargin": true,
           "gridcolor": "white",
           "linecolor": "white",
           "ticks": "",
           "title": {
            "standoff": 15
           },
           "zerolinecolor": "white",
           "zerolinewidth": 2
          },
          "yaxis": {
           "automargin": true,
           "gridcolor": "white",
           "linecolor": "white",
           "ticks": "",
           "title": {
            "standoff": 15
           },
           "zerolinecolor": "white",
           "zerolinewidth": 2
          }
         }
        },
        "title": {
         "text": "Countries and their Economy/Per Capita GDP (2017)"
        }
       }
      }
     },
     "metadata": {},
     "output_type": "display_data"
    }
   ],
   "source": [
    "# look at economy/gdp first\n",
    "gdp = px.choropleth(happiness_and_mental_health, locations='Code',\n",
    "                    color='Economy..GDP.per.Capita.',\n",
    "                    hover_name=\"Country\",\n",
    "                    title = \"Countries and their Economy/Per Capita GDP (2017)\", color_continuous_scale=px.colors.sequential.PuRd)\n",
    " \n",
    " \n",
    "gdp[\"layout\"].pop(\"updatemenus\")\n",
    "gdp.show()"
   ]
  },
  {
   "attachments": {},
   "cell_type": "markdown",
   "metadata": {},
   "source": [
    "<p>Notice how this map and the earlier map look very similar to one another (with some countries lighter). While expected to some extent (due to the score being calculated as a sum of the factors), how heavily is GDP relied upon to determine these scores? Do these scores take into account wealth gaps?</p>\n",
    "<p>While two years apart, <a href='https://money.cnn.com/2017/11/03/news/economy/wealth-gap-america/index.html'>this</a> article from 2017 and <a href='https://money.cnn.com/2017/11/03/news/economy/wealth-gap-america/index.html'>this</a> article from 2019 discuss the increasing wealth gap in the United States which makes it harder for lower-income level people to maintain their deserved standard of living. Does the U.S. simply have a 'better' wealth gap than other countries?</p> \n",
    "<p>According to the <a href='https://www.stlouisfed.org/on-the-economy/2017/october/how-us-income-inequality-compare-worldwide'>Federal Reserve Bank of St. Louis</a>, this is not the case. '...Income inequality in the U.S. is large, despite the U.S. having one of the highest levels of income per capita in our sample. Specifically, the Gini coefficient of the U.S. was 40.46 in 2010, very close to the average Gini coefficient of African countries in our sample.'</p> \n",
    "<p>Interesting.</p>"
   ]
  },
  {
   "attachments": {},
   "cell_type": "markdown",
   "metadata": {},
   "source": [
    "Let's first look at how each country's 'happiness' score compares with the percentage of their population with mental illnesses or disorders. We will start by using a scatterplot to visualize this."
   ]
  },
  {
   "cell_type": "code",
   "execution_count": 231,
   "metadata": {},
   "outputs": [
    {
     "data": {
      "text/plain": [
       "<matplotlib.collections.PathCollection at 0x1d765f9c190>"
      ]
     },
     "execution_count": 231,
     "metadata": {},
     "output_type": "execute_result"
    },
    {
     "data": {
      "image/png": "[encoded data removed]",
      "text/plain": [
       "<Figure size 432x288 with 1 Axes>"
      ]
     },
     "metadata": {
      "needs_background": "light"
     },
     "output_type": "display_data"
    }
   ],
   "source": [
    "import matplotlib.pyplot as plt\n",
    "plt.scatter(x=happiness_and_mental_health['%_pop_w_disorders/mental_illnesses'], y=happiness_and_mental_health['Happiness.Score'])"
   ]
  },
  {
   "attachments": {},
   "cell_type": "markdown",
   "metadata": {},
   "source": [
    "Let's also print out the summary statistics for happiness_and_mental_health['%_pop_w_disorders/mental_illnesses']."
   ]
  },
  {
   "cell_type": "code",
   "execution_count": 190,
   "metadata": {},
   "outputs": [
    {
     "name": "stdout",
     "output_type": "stream",
     "text": [
      "count    147.000000\n",
      "mean      11.216237\n",
      "std        2.166738\n",
      "min        7.912260\n",
      "25%        9.488872\n",
      "50%       10.681989\n",
      "75%       12.545479\n",
      "max       18.974350\n",
      "Name: %_pop_w_disorders/mental_illnesses, dtype: float64\n"
     ]
    }
   ],
   "source": [
    "print(happiness_and_mental_health['%_pop_w_disorders/mental_illnesses'].describe())"
   ]
  },
  {
   "attachments": {},
   "cell_type": "markdown",
   "metadata": {},
   "source": [
    "Given these two pieces of information (the graph and the summary statistics), we can see there is some sort of a positive linear relationship between mental illnesses/disorders and country's 'happiness' scores. Additionally, while this also may be dependent on poor data collection in select countries, bias in the happiness score model, or some other factor not accounted for, most of the countries in the dataframe seem to cluster around 8-14% of the population having some sort of mental illness/disorder (with a few outliers featuring both a high population percentage AND a high happiness score). "
   ]
  },
  {
   "attachments": {},
   "cell_type": "markdown",
   "metadata": {},
   "source": [
    "Let's run a linear regression to be sure. Because these models are sensitive to outliers, we'll remove them from the data before running a regression. This will be done by removing all of the countries with percentages higher than 14% from the dataframe."
   ]
  },
  {
   "cell_type": "code",
   "execution_count": 238,
   "metadata": {},
   "outputs": [],
   "source": [
    "# make a copy + keep the original dataframe as is (just in case)\n",
    "happiness_and_mental_health2 = happiness_and_mental_health.copy()\n",
    "# drop the rows if the value in happiness_and_mental_health2['%_pop_w_disorders/mental_illnesses'] > 14\n",
    "happiness_and_mental_health2.drop(happiness_and_mental_health2[happiness_and_mental_health2['%_pop_w_disorders/mental_illnesses'] > 14].index, inplace = True)"
   ]
  },
  {
   "cell_type": "code",
   "execution_count": 239,
   "metadata": {},
   "outputs": [
    {
     "name": "stdout",
     "output_type": "stream",
     "text": [
      "count    130.000000\n",
      "mean      10.679310\n",
      "std        1.583165\n",
      "min        7.912260\n",
      "25%        9.406428\n",
      "50%       10.327404\n",
      "75%       11.927166\n",
      "max       13.959981\n",
      "Name: %_pop_w_disorders/mental_illnesses, dtype: float64\n"
     ]
    }
   ],
   "source": [
    "print(happiness_and_mental_health2['%_pop_w_disorders/mental_illnesses'].describe())"
   ]
  },
  {
   "attachments": {},
   "cell_type": "markdown",
   "metadata": {},
   "source": [
    "We will now run a linear regression."
   ]
  },
  {
   "cell_type": "code",
   "execution_count": 240,
   "metadata": {},
   "outputs": [
    {
     "name": "stdout",
     "output_type": "stream",
     "text": [
      "                                         OLS Regression Results                                        \n",
      "=======================================================================================================\n",
      "Dep. Variable:     %_pop_w_disorders/mental_illnesses   R-squared (uncentered):                   0.959\n",
      "Model:                                            OLS   Adj. R-squared (uncentered):              0.958\n",
      "Method:                                 Least Squares   F-statistic:                              2993.\n",
      "Date:                                Wed, 14 Dec 2022   Prob (F-statistic):                    3.95e-91\n",
      "Time:                                        12:12:57   Log-Likelihood:                         -286.63\n",
      "No. Observations:                                 130   AIC:                                      575.3\n",
      "Df Residuals:                                     129   BIC:                                      578.1\n",
      "Df Model:                                           1                                                  \n",
      "Covariance Type:                            nonrobust                                                  \n",
      "===================================================================================\n",
      "                      coef    std err          t      P>|t|      [0.025      0.975]\n",
      "-----------------------------------------------------------------------------------\n",
      "Happiness.Score     1.9916      0.036     54.708      0.000       1.920       2.064\n",
      "==============================================================================\n",
      "Omnibus:                        1.220   Durbin-Watson:                   0.697\n",
      "Prob(Omnibus):                  0.543   Jarque-Bera (JB):                1.300\n",
      "Skew:                           0.218   Prob(JB):                        0.522\n",
      "Kurtosis:                       2.775   Cond. No.                         1.00\n",
      "==============================================================================\n",
      "\n",
      "Notes:\n",
      "[1] R² is computed without centering (uncentered) since the model does not contain a constant.\n",
      "[2] Standard Errors assume that the covariance matrix of the errors is correctly specified.\n"
     ]
    }
   ],
   "source": [
    "import statsmodels.api as sm\n",
    "\n",
    "reg = sm.OLS(happiness_and_mental_health2['%_pop_w_disorders/mental_illnesses'], happiness_and_mental_health2['Happiness.Score'],).fit()\n",
    "print(reg.summary())"
   ]
  },
  {
   "attachments": {},
   "cell_type": "markdown",
   "metadata": {},
   "source": [
    "Given the Least-Squared regression results, it seems that there is a positive linear relationship between % of the population with mental illnesses/disorders and the happiness score of the given country. This is interesting because this is not what I had expected going in. It is, however, important to reiterate the existence of potential biases in the happiness score and/or inadequate data collection practices regarding mental health (especially likely due to mental health stigma present in these given countries)."
   ]
  },
  {
   "attachments": {},
   "cell_type": "markdown",
   "metadata": {},
   "source": [
    "We will now examine the Happiness Report dataset from 2017 to see if we can find any reasons for this."
   ]
  },
  {
   "attachments": {},
   "cell_type": "markdown",
   "metadata": {},
   "source": [
    "For context, # explain how scores are calculated"
   ]
  }
 ],
 "metadata": {
  "kernelspec": {
   "display_name": "Python 3.9.12 ('base')",
   "language": "python",
   "name": "python3"
  },
  "language_info": {
   "codemirror_mode": {
    "name": "ipython",
    "version": 3
   },
   "file_extension": ".py",
   "mimetype": "text/x-python",
   "name": "python",
   "nbconvert_exporter": "python",
   "pygments_lexer": "ipython3",
   "version": "3.9.12"
  },
  "orig_nbformat": 4,
  "vscode": {
   "interpreter": {
    "hash": "be2137ec6d514a352260abb7512c12420d97ca6c8f6ca5e077157314f2d3105d"
   }
  }
 },
 "nbformat": 4,
 "nbformat_minor": 2
}
