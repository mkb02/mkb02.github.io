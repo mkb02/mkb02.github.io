{
 "cells": [
  {
   "attachments": {},
   "cell_type": "markdown",
   "metadata": {},
   "source": [
    "<h1><b>What Makes People Happy?</b></h1>\n",
    "<h3>A study of global happiness, with data from the 2019 World Happiness Report</h3>"
   ]
  },
  {
   "attachments": {},
   "cell_type": "markdown",
   "metadata": {},
   "source": [
    "<h3><b>Motivation</b></h3>\n",
    "<p>Since the beginning of the pandemic, people have become more conscious about living 'happily' and in a way that fulfills them. Whether that entails working to make the world a better place (and continuing a fight for justice for those of all races, genders, income levels, and so on), choosing to prioritize a work-life balance and selecting options that allow for flexibility in schedules, no longer wanting to work for minimum wage (and pushing for a liveable wage), taking the time to engage in 'self-care', or emphasizing mental health (and how it manifests) in the workplace and society as a whole, this shift towards prioritizing 'happiness' is something I wanted to explore due to its prevalance today.</p>\n",
    "<p><a href='https://www.kaggle.com/datasets/unsdsn/world-happiness?select=2019.csv'>The World Happiness Report</a> is one such source that monitors this by using data from the Gallup World Poll to 'estimate the extent to which each of six factors – economic production, social support, life expectancy, freedom, absence of corruption, and generosity – contribute to making life evaluations higher in each country than they are in Dystopia, a hypothetical country that has values equal to the world’s lowest national averages for each of the six factors.'</p>\n",
    "<p>Another way to monitor this 'happiness' is to look into happiness scores for each country and compare them to factors indicative of (negative) mental health. Examples of this would include rates of depression, suicide, and substance abuse present in each given population. According to <a href='https://ourworldindata.org/mental-health'>Our World In Data's</a> section on mental health, while the 'link between mental health and substance use disorders and suicide is well-documented, there is not a direct relationship between mental health prevalance and suicide rates.' While I was unable to find specific datasets regarding rates of substance abuse and suicide globally, it is something to take note of for the future.</p> \n",
    "<p><a href='https://www.healthdirect.gov.au/signs-mental-health-issue#:~:text=Nine%20signs%20of%20mental%20health%20issues%201%201.,8.%20Feeling%20guilty%20or%20worthless%20...%20More%20items'>9 Signs of Mental Health Issues</a> | <a href='https://www.cdc.gov/mentalhealth/learn/index.htm'>CDC: Mental Health</a> | <a href='https://ezcareclinic.io/factors-affecting-mental-health/'>Factors Affecting Mental Health</a> | <a href='https://ourworldindata.org/mental-health'>Our World in Data: Mental Health</a> | <a href='https://www.who.int/news-room/fact-sheets/detail/mental-disorders'> WHO: Mental Disorder Factsheet</a></p>\n",
    "<p>Note: 'Happiness' can mean very different things. The <a href='https://www.merriam-webster.com/dictionary/happiness'>Merriam-Webster Dictionary</a> defines it as 'a state of well-being and contentment' and/or 'a pleasurable or satisfying experience'. I will primarily be using the former definition when referring to this state of being.</p>"
   ]
  },
  {
   "attachments": {},
   "cell_type": "markdown",
   "metadata": {},
   "source": [
    "<h3><b>I. Data Collection/Curation and Parsing</b></h3>\n",
    "<p>The first thing we will do is collect the following datasets: <li>The World Happiness Report Dataset from 2019 (via <a href='https://www.kaggle.com/datasets/unsdsn/world-happiness?select=2019.csv'>Kaggle</a>)</li><li>The 'Estimated population-based prevalence of depression' dataset (via <a href='https://www.who.int/data/gho/data/indicators/indicator-details/GHO/estimated-population-based-prevalence-of-depression'>WHO</a>)</li><li>'Mental health Depression disorder Data' (via <a href='https://data.world/vizzup/mental-health-depression-disorder-data'>data.world</a>)</li></p>"
   ]
  }
 ],
 "metadata": {
  "kernelspec": {
   "display_name": "Python 3.10.9 64-bit (microsoft store)",
   "language": "python",
   "name": "python3"
  },
  "language_info": {
   "name": "python",
   "version": "3.10.9"
  },
  "orig_nbformat": 4,
  "vscode": {
   "interpreter": {
    "hash": "ca8b1caae39c0d8a6f817632b4603c72514cd4a42c8acd3e557b1b6ebfa77018"
   }
  }
 },
 "nbformat": 4,
 "nbformat_minor": 2
}
