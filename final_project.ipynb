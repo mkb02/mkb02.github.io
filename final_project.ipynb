{
 "cells": [
  {
   "attachments": {},
   "cell_type": "markdown",
   "metadata": {},
   "source": [
    "<h1><b>What Makes People Happy?</b></h1>\n",
    "<h3>A study of global happiness, with data from the 2019 World Happiness Report</h3>"
   ]
  },
  {
   "attachments": {},
   "cell_type": "markdown",
   "metadata": {},
   "source": [
    "<h3><b>Motivation</b></h3>\n",
    "<p>Since the beginning of the pandemic, people have become more conscious about living 'happily' and in a way that fulfills them. Whether that entails working to make the world a better place (and continuing a fight for justice for those of all races, genders, income levels, and so on), choosing to prioritize a work-life balance and selecting options that allow for flexibility in schedules, no longer wanting to work for minimum wage (and pushing for a liveable wage), or emphasizing mental health in the workplace and society as a whole, this shift towards prioritizing 'happiness' is something I wanted to explore due to its prevalance today.</p>\n",
    "<p><a href='https://www.kaggle.com/datasets/unsdsn/world-happiness?select=2019.csv'>The World Happiness Report</a> is one such source that monitors this and uses data from the Gallup World Poll to 'estimate the extent to which each of six factors – economic production, social support, life expectancy, freedom, absence of corruption, and generosity – contribute to making life evaluations higher in each country than they are in Dystopia, a hypothetical country that has values equal to the world’s lowest national averages for each of the six factors.'</p>\n",
    "<p>Another way to monitor this 'happiness' is to look into happiness scores for each country and compare them to rates indicative of mental health. Examples of this would include rates of depression, suicide, and substance abuse present in each given population. This is what we will be doing later on in this tutorial.</p>\n",
    "<p>Note: 'Happiness' can mean very different things. The <a href='https://www.merriam-webster.com/dictionary/happiness'>Merriam-Webster Dictionary</a> defines it as 'a state of well-being and contentment' and/or 'a pleasurable or satisfying experience'. I will primarily be using the former definition when referring to this state of being.</p>"
   ]
  },
  {
   "cell_type": "markdown",
   "metadata": {},
   "source": []
  }
 ],
 "metadata": {
  "kernelspec": {
   "display_name": "Python 3.10.9 64-bit (microsoft store)",
   "language": "python",
   "name": "python3"
  },
  "language_info": {
   "name": "python",
   "version": "3.10.9"
  },
  "orig_nbformat": 4,
  "vscode": {
   "interpreter": {
    "hash": "ca8b1caae39c0d8a6f817632b4603c72514cd4a42c8acd3e557b1b6ebfa77018"
   }
  }
 },
 "nbformat": 4,
 "nbformat_minor": 2
}
